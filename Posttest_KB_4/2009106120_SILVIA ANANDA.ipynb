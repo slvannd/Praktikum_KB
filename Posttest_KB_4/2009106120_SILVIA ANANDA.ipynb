{
 "cells": [
  {
   "cell_type": "markdown",
   "id": "d7848841",
   "metadata": {},
   "source": [
    "## POSTTEST 4 ( DATA PREPROCESSING)"
   ]
  },
  {
   "cell_type": "markdown",
   "id": "4531d65f",
   "metadata": {},
   "source": [
    "# IMPORT PACKAGE\n",
    "- Pandas\n",
    "- Numpy\n",
    "- Scikit-Learn(Sklearn)"
   ]
  },
  {
   "cell_type": "code",
   "execution_count": 199,
   "id": "cffbad28",
   "metadata": {},
   "outputs": [],
   "source": [
    "import matplotlib.pyplot as plt\n",
    "import seaborn as sns\n",
    "import pandas as pd\n",
    "import numpy as np\n",
    "\n",
    "# untuk Data Split\n",
    "from sklearn.model_selection import train_test_split #testing dan training data\n",
    "# untuk Data Transforming\n",
    "from sklearn.preprocessing import StandardScaler #standarisasi\n",
    "from sklearn.preprocessing import MinMaxScaler #normalisasi\n",
    "# untuk Data Cleaning\n",
    "from sklearn.impute import SimpleImputer #subtitusi nilai\n",
    "# untuk Data Encoding\n",
    "from sklearn.preprocessing import OrdinalEncoder #encoder\n",
    "from sklearn.preprocessing import OneHotEncoder #onehot"
   ]
  },
  {
   "cell_type": "markdown",
   "id": "af7bdcab",
   "metadata": {},
   "source": [
    "## Record File \"housewares.csv\""
   ]
  },
  {
   "cell_type": "code",
   "execution_count": 200,
   "id": "218798a3",
   "metadata": {},
   "outputs": [
    {
     "data": {
      "text/html": [
       "<div>\n",
       "<style scoped>\n",
       "    .dataframe tbody tr th:only-of-type {\n",
       "        vertical-align: middle;\n",
       "    }\n",
       "\n",
       "    .dataframe tbody tr th {\n",
       "        vertical-align: top;\n",
       "    }\n",
       "\n",
       "    .dataframe thead th {\n",
       "        text-align: right;\n",
       "    }\n",
       "</style>\n",
       "<table border=\"1\" class=\"dataframe\">\n",
       "  <thead>\n",
       "    <tr style=\"text-align: right;\">\n",
       "      <th></th>\n",
       "      <th>Name</th>\n",
       "      <th>Variation</th>\n",
       "      <th>Body Title</th>\n",
       "      <th>Pattern</th>\n",
       "      <th>Pattern Title</th>\n",
       "      <th>DIY</th>\n",
       "      <th>Body Customize</th>\n",
       "      <th>Pattern Customize</th>\n",
       "      <th>Kit Cost</th>\n",
       "      <th>Buy</th>\n",
       "      <th>...</th>\n",
       "      <th>Interact</th>\n",
       "      <th>Tag</th>\n",
       "      <th>Outdoor</th>\n",
       "      <th>Speaker Type</th>\n",
       "      <th>Lighting Type</th>\n",
       "      <th>Catalog</th>\n",
       "      <th>Filename</th>\n",
       "      <th>Variant ID</th>\n",
       "      <th>Internal ID</th>\n",
       "      <th>Unique Entry ID</th>\n",
       "    </tr>\n",
       "  </thead>\n",
       "  <tbody>\n",
       "    <tr>\n",
       "      <th>0</th>\n",
       "      <td>acoustic guitar</td>\n",
       "      <td>Natural</td>\n",
       "      <td>Body</td>\n",
       "      <td>NaN</td>\n",
       "      <td>NaN</td>\n",
       "      <td>Yes</td>\n",
       "      <td>Yes</td>\n",
       "      <td>No</td>\n",
       "      <td>5.0</td>\n",
       "      <td>NFS</td>\n",
       "      <td>...</td>\n",
       "      <td>Yes</td>\n",
       "      <td>Musical Instrument</td>\n",
       "      <td>No</td>\n",
       "      <td>Does not play music</td>\n",
       "      <td>No lighting</td>\n",
       "      <td>Not for sale</td>\n",
       "      <td>FtrAcorsticguitar_Remake_0_0</td>\n",
       "      <td>0_0</td>\n",
       "      <td>383</td>\n",
       "      <td>EpywQXABBcv2dipsP</td>\n",
       "    </tr>\n",
       "    <tr>\n",
       "      <th>1</th>\n",
       "      <td>acoustic guitar</td>\n",
       "      <td>Cherry</td>\n",
       "      <td>Body</td>\n",
       "      <td>NaN</td>\n",
       "      <td>NaN</td>\n",
       "      <td>Yes</td>\n",
       "      <td>Yes</td>\n",
       "      <td>No</td>\n",
       "      <td>5.0</td>\n",
       "      <td>NFS</td>\n",
       "      <td>...</td>\n",
       "      <td>Yes</td>\n",
       "      <td>Musical Instrument</td>\n",
       "      <td>No</td>\n",
       "      <td>Does not play music</td>\n",
       "      <td>No lighting</td>\n",
       "      <td>Not for sale</td>\n",
       "      <td>FtrAcorsticguitar_Remake_1_0</td>\n",
       "      <td>1_0</td>\n",
       "      <td>383</td>\n",
       "      <td>K9she5Y4SuXA8MGBR</td>\n",
       "    </tr>\n",
       "    <tr>\n",
       "      <th>2</th>\n",
       "      <td>acoustic guitar</td>\n",
       "      <td>Brown</td>\n",
       "      <td>Body</td>\n",
       "      <td>NaN</td>\n",
       "      <td>NaN</td>\n",
       "      <td>Yes</td>\n",
       "      <td>Yes</td>\n",
       "      <td>No</td>\n",
       "      <td>5.0</td>\n",
       "      <td>NFS</td>\n",
       "      <td>...</td>\n",
       "      <td>Yes</td>\n",
       "      <td>Musical Instrument</td>\n",
       "      <td>No</td>\n",
       "      <td>Does not play music</td>\n",
       "      <td>No lighting</td>\n",
       "      <td>Not for sale</td>\n",
       "      <td>FtrAcorsticguitar_Remake_2_0</td>\n",
       "      <td>2_0</td>\n",
       "      <td>383</td>\n",
       "      <td>vLq9iphAvALBXazDr</td>\n",
       "    </tr>\n",
       "    <tr>\n",
       "      <th>3</th>\n",
       "      <td>acoustic guitar</td>\n",
       "      <td>Blue</td>\n",
       "      <td>Body</td>\n",
       "      <td>NaN</td>\n",
       "      <td>NaN</td>\n",
       "      <td>Yes</td>\n",
       "      <td>Yes</td>\n",
       "      <td>No</td>\n",
       "      <td>5.0</td>\n",
       "      <td>NFS</td>\n",
       "      <td>...</td>\n",
       "      <td>Yes</td>\n",
       "      <td>Musical Instrument</td>\n",
       "      <td>No</td>\n",
       "      <td>Does not play music</td>\n",
       "      <td>No lighting</td>\n",
       "      <td>Not for sale</td>\n",
       "      <td>FtrAcorsticguitar_Remake_3_0</td>\n",
       "      <td>3_0</td>\n",
       "      <td>383</td>\n",
       "      <td>nuqeFzNE5PneqGHaj</td>\n",
       "    </tr>\n",
       "    <tr>\n",
       "      <th>4</th>\n",
       "      <td>acoustic guitar</td>\n",
       "      <td>White</td>\n",
       "      <td>Body</td>\n",
       "      <td>NaN</td>\n",
       "      <td>NaN</td>\n",
       "      <td>Yes</td>\n",
       "      <td>Yes</td>\n",
       "      <td>No</td>\n",
       "      <td>5.0</td>\n",
       "      <td>NFS</td>\n",
       "      <td>...</td>\n",
       "      <td>Yes</td>\n",
       "      <td>Musical Instrument</td>\n",
       "      <td>No</td>\n",
       "      <td>Does not play music</td>\n",
       "      <td>No lighting</td>\n",
       "      <td>Not for sale</td>\n",
       "      <td>FtrAcorsticguitar_Remake_4_0</td>\n",
       "      <td>4_0</td>\n",
       "      <td>383</td>\n",
       "      <td>DotFsojrhCwrLZ3TF</td>\n",
       "    </tr>\n",
       "  </tbody>\n",
       "</table>\n",
       "<p>5 rows × 32 columns</p>\n",
       "</div>"
      ],
      "text/plain": [
       "              Name Variation Body Title Pattern Pattern Title  DIY  \\\n",
       "0  acoustic guitar   Natural       Body     NaN           NaN  Yes   \n",
       "1  acoustic guitar    Cherry       Body     NaN           NaN  Yes   \n",
       "2  acoustic guitar     Brown       Body     NaN           NaN  Yes   \n",
       "3  acoustic guitar      Blue       Body     NaN           NaN  Yes   \n",
       "4  acoustic guitar     White       Body     NaN           NaN  Yes   \n",
       "\n",
       "  Body Customize Pattern Customize  Kit Cost  Buy  ...  Interact  \\\n",
       "0            Yes                No       5.0  NFS  ...       Yes   \n",
       "1            Yes                No       5.0  NFS  ...       Yes   \n",
       "2            Yes                No       5.0  NFS  ...       Yes   \n",
       "3            Yes                No       5.0  NFS  ...       Yes   \n",
       "4            Yes                No       5.0  NFS  ...       Yes   \n",
       "\n",
       "                  Tag Outdoor         Speaker Type  Lighting Type  \\\n",
       "0  Musical Instrument      No  Does not play music    No lighting   \n",
       "1  Musical Instrument      No  Does not play music    No lighting   \n",
       "2  Musical Instrument      No  Does not play music    No lighting   \n",
       "3  Musical Instrument      No  Does not play music    No lighting   \n",
       "4  Musical Instrument      No  Does not play music    No lighting   \n",
       "\n",
       "        Catalog                      Filename Variant ID Internal ID  \\\n",
       "0  Not for sale  FtrAcorsticguitar_Remake_0_0        0_0         383   \n",
       "1  Not for sale  FtrAcorsticguitar_Remake_1_0        1_0         383   \n",
       "2  Not for sale  FtrAcorsticguitar_Remake_2_0        2_0         383   \n",
       "3  Not for sale  FtrAcorsticguitar_Remake_3_0        3_0         383   \n",
       "4  Not for sale  FtrAcorsticguitar_Remake_4_0        4_0         383   \n",
       "\n",
       "     Unique Entry ID  \n",
       "0  EpywQXABBcv2dipsP  \n",
       "1  K9she5Y4SuXA8MGBR  \n",
       "2  vLq9iphAvALBXazDr  \n",
       "3  nuqeFzNE5PneqGHaj  \n",
       "4  DotFsojrhCwrLZ3TF  \n",
       "\n",
       "[5 rows x 32 columns]"
      ]
     },
     "execution_count": 200,
     "metadata": {},
     "output_type": "execute_result"
    }
   ],
   "source": [
    "df = pd.read_csv('housewares.csv')\n",
    "df.head()"
   ]
  },
  {
   "cell_type": "code",
   "execution_count": 201,
   "id": "503c2e89",
   "metadata": {},
   "outputs": [
    {
     "name": "stdout",
     "output_type": "stream",
     "text": [
      "<class 'pandas.core.frame.DataFrame'>\n",
      "RangeIndex: 3275 entries, 0 to 3274\n",
      "Data columns (total 32 columns):\n",
      " #   Column             Non-Null Count  Dtype  \n",
      "---  ------             --------------  -----  \n",
      " 0   Name               3275 non-null   object \n",
      " 1   Variation          3074 non-null   object \n",
      " 2   Body Title         1182 non-null   object \n",
      " 3   Pattern            1508 non-null   object \n",
      " 4   Pattern Title      1508 non-null   object \n",
      " 5   DIY                3275 non-null   object \n",
      " 6   Body Customize     3275 non-null   object \n",
      " 7   Pattern Customize  3275 non-null   object \n",
      " 8   Kit Cost           2239 non-null   float64\n",
      " 9   Buy                3275 non-null   object \n",
      " 10  Sell               3275 non-null   int64  \n",
      " 11  Color 1            3275 non-null   object \n",
      " 12  Color 2            3275 non-null   object \n",
      " 13  Size               3275 non-null   object \n",
      " 14  Miles Price        115 non-null    float64\n",
      " 15  Source             3275 non-null   object \n",
      " 16  Source Notes       1870 non-null   object \n",
      " 17  Version            3275 non-null   object \n",
      " 18  HHA Concept 1      3275 non-null   object \n",
      " 19  HHA Concept 2      3275 non-null   object \n",
      " 20  HHA Series         3275 non-null   object \n",
      " 21  HHA Set            3275 non-null   object \n",
      " 22  Interact           3275 non-null   object \n",
      " 23  Tag                3275 non-null   object \n",
      " 24  Outdoor            3275 non-null   object \n",
      " 25  Speaker Type       3275 non-null   object \n",
      " 26  Lighting Type      3275 non-null   object \n",
      " 27  Catalog            3275 non-null   object \n",
      " 28  Filename           3275 non-null   object \n",
      " 29  Variant ID         3153 non-null   object \n",
      " 30  Internal ID        3275 non-null   int64  \n",
      " 31  Unique Entry ID    3275 non-null   object \n",
      "dtypes: float64(2), int64(2), object(28)\n",
      "memory usage: 818.9+ KB\n"
     ]
    }
   ],
   "source": [
    "df.info()"
   ]
  },
  {
   "cell_type": "code",
   "execution_count": 202,
   "id": "48d1771c",
   "metadata": {},
   "outputs": [
    {
     "data": {
      "text/plain": [
       "Name                    0\n",
       "Variation             201\n",
       "Body Title           2093\n",
       "Pattern              1767\n",
       "Pattern Title        1767\n",
       "DIY                     0\n",
       "Body Customize          0\n",
       "Pattern Customize       0\n",
       "Kit Cost             1036\n",
       "Buy                     0\n",
       "Sell                    0\n",
       "Color 1                 0\n",
       "Color 2                 0\n",
       "Size                    0\n",
       "Miles Price          3160\n",
       "Source                  0\n",
       "Source Notes         1405\n",
       "Version                 0\n",
       "HHA Concept 1           0\n",
       "HHA Concept 2           0\n",
       "HHA Series              0\n",
       "HHA Set                 0\n",
       "Interact                0\n",
       "Tag                     0\n",
       "Outdoor                 0\n",
       "Speaker Type            0\n",
       "Lighting Type           0\n",
       "Catalog                 0\n",
       "Filename                0\n",
       "Variant ID            122\n",
       "Internal ID             0\n",
       "Unique Entry ID         0\n",
       "dtype: int64"
      ]
     },
     "execution_count": 202,
     "metadata": {},
     "output_type": "execute_result"
    }
   ],
   "source": [
    "df.isna().sum()"
   ]
  },
  {
   "cell_type": "code",
   "execution_count": 203,
   "id": "a5c6e1cc",
   "metadata": {},
   "outputs": [
    {
     "name": "stdout",
     "output_type": "stream",
     "text": [
      "panjang dataset 3275 baris\n"
     ]
    }
   ],
   "source": [
    "print(f'panjang dataset {len(df)} baris')"
   ]
  },
  {
   "cell_type": "markdown",
   "id": "509f3f67",
   "metadata": {},
   "source": [
    "## DATA SPLIT"
   ]
  },
  {
   "cell_type": "markdown",
   "id": "66d86685",
   "metadata": {},
   "source": [
    "Train/test split adalah salah satu metode yang dapat digunakan untuk mengevaluasi performa model machine learning. Metode evaluasi model ini membagi dataset menjadi dua bagian yakni bagian yang digunakan untuk training data dan untuk testing data dengan proporsi tertentu."
   ]
  },
  {
   "cell_type": "code",
   "execution_count": 204,
   "id": "6b9ff935",
   "metadata": {},
   "outputs": [],
   "source": [
    "data = df[['Sell']]\n",
    "label = df['Internal ID']\n",
    "\n",
    "data_train, data_test, label_train, label_test = train_test_split(data, label, test_size=.3)"
   ]
  },
  {
   "cell_type": "code",
   "execution_count": 205,
   "id": "302f6068",
   "metadata": {},
   "outputs": [
    {
     "name": "stdout",
     "output_type": "stream",
     "text": [
      "panjang data training 2292\n",
      "panjang label training 2292\n",
      "panjang data testing 983\n",
      "panjang label testing 983\n"
     ]
    }
   ],
   "source": [
    "print(f'panjang data training {len(data_train)}',\n",
    "     f'panjang label training {len(label_train)}',\n",
    "     f'panjang data testing {len(data_test)}',\n",
    "     f'panjang label testing {len(label_test)}',\n",
    "     sep='\\n')"
   ]
  },
  {
   "cell_type": "markdown",
   "id": "13529359",
   "metadata": {},
   "source": [
    "## DATA TRANSFORMASI"
   ]
  },
  {
   "cell_type": "markdown",
   "id": "a16604e9",
   "metadata": {},
   "source": [
    "Transformasi data adalah merubah skala data kedalam bentuk lain sehingga data memiliki distribusi yang diharapkan.Scaling adalah suatu cara untuk membuat numerical data pada dataset memiliki rentang nilai (scale) yang sama. Tidak ada lagi satu variabel data yang mendominasi variabel data lainnya.Teknik penskalaan yang biasa dipakai yaitu normalisasi dan standardisasi\n",
    "\n",
    "- Normalisasi adalah proses penskalaan data menjadi rentang [0, 1].\n",
    "- Standardisasi adalah proses penskalaan data sehingga memiliki nilai rata-rata 0 dan standar deviasi 1."
   ]
  },
  {
   "cell_type": "code",
   "execution_count": 206,
   "id": "ac7a6d55",
   "metadata": {},
   "outputs": [],
   "source": [
    "dataset_normalisasi = df.copy()\n",
    "dataset_standarirasi = df.copy()"
   ]
  },
  {
   "cell_type": "markdown",
   "id": "e7b81e3b",
   "metadata": {},
   "source": [
    "### NORMALISASI"
   ]
  },
  {
   "cell_type": "code",
   "execution_count": 207,
   "id": "29980612",
   "metadata": {},
   "outputs": [
    {
     "data": {
      "text/html": [
       "<div>\n",
       "<style scoped>\n",
       "    .dataframe tbody tr th:only-of-type {\n",
       "        vertical-align: middle;\n",
       "    }\n",
       "\n",
       "    .dataframe tbody tr th {\n",
       "        vertical-align: top;\n",
       "    }\n",
       "\n",
       "    .dataframe thead th {\n",
       "        text-align: right;\n",
       "    }\n",
       "</style>\n",
       "<table border=\"1\" class=\"dataframe\">\n",
       "  <thead>\n",
       "    <tr style=\"text-align: right;\">\n",
       "      <th></th>\n",
       "      <th>Kit Cost</th>\n",
       "      <th>Sell</th>\n",
       "    </tr>\n",
       "  </thead>\n",
       "  <tbody>\n",
       "    <tr>\n",
       "      <th>0</th>\n",
       "      <td>0.081633</td>\n",
       "      <td>0.012761</td>\n",
       "    </tr>\n",
       "    <tr>\n",
       "      <th>1</th>\n",
       "      <td>0.081633</td>\n",
       "      <td>0.012761</td>\n",
       "    </tr>\n",
       "    <tr>\n",
       "      <th>2</th>\n",
       "      <td>0.081633</td>\n",
       "      <td>0.012761</td>\n",
       "    </tr>\n",
       "    <tr>\n",
       "      <th>3</th>\n",
       "      <td>0.081633</td>\n",
       "      <td>0.012761</td>\n",
       "    </tr>\n",
       "    <tr>\n",
       "      <th>4</th>\n",
       "      <td>0.081633</td>\n",
       "      <td>0.012761</td>\n",
       "    </tr>\n",
       "  </tbody>\n",
       "</table>\n",
       "</div>"
      ],
      "text/plain": [
       "   Kit Cost      Sell\n",
       "0  0.081633  0.012761\n",
       "1  0.081633  0.012761\n",
       "2  0.081633  0.012761\n",
       "3  0.081633  0.012761\n",
       "4  0.081633  0.012761"
      ]
     },
     "execution_count": 207,
     "metadata": {},
     "output_type": "execute_result"
    }
   ],
   "source": [
    "scaler = MinMaxScaler()\n",
    "\n",
    "normalize_dataset = scaler.fit_transform(dataset_normalisasi[['Kit Cost', 'Sell']])\n",
    "\n",
    "normalize_dataset = pd.DataFrame(normalize_dataset)\n",
    "normalize_dataset.rename(columns={ 0 :'Kit Cost', 1 : 'Sell'}, inplace=True)\n",
    "\n",
    "normalize_dataset.head(5)"
   ]
  },
  {
   "cell_type": "markdown",
   "id": "6a955bf8",
   "metadata": {},
   "source": [
    "### STANDARISASI"
   ]
  },
  {
   "cell_type": "code",
   "execution_count": 208,
   "id": "1f840ea5",
   "metadata": {},
   "outputs": [
    {
     "name": "stdout",
     "output_type": "stream",
     "text": [
      "<class 'pandas.core.frame.DataFrame'>\n",
      "RangeIndex: 3275 entries, 0 to 3274\n",
      "Data columns (total 32 columns):\n",
      " #   Column             Non-Null Count  Dtype  \n",
      "---  ------             --------------  -----  \n",
      " 0   Name               3275 non-null   object \n",
      " 1   Variation          3074 non-null   object \n",
      " 2   Body Title         1182 non-null   object \n",
      " 3   Pattern            1508 non-null   object \n",
      " 4   Pattern Title      1508 non-null   object \n",
      " 5   DIY                3275 non-null   object \n",
      " 6   Body Customize     3275 non-null   object \n",
      " 7   Pattern Customize  3275 non-null   object \n",
      " 8   Kit Cost           2239 non-null   float64\n",
      " 9   Buy                3275 non-null   object \n",
      " 10  Sell               3275 non-null   int64  \n",
      " 11  Color 1            3275 non-null   object \n",
      " 12  Color 2            3275 non-null   object \n",
      " 13  Size               3275 non-null   object \n",
      " 14  Miles Price        115 non-null    float64\n",
      " 15  Source             3275 non-null   object \n",
      " 16  Source Notes       1870 non-null   object \n",
      " 17  Version            3275 non-null   object \n",
      " 18  HHA Concept 1      3275 non-null   object \n",
      " 19  HHA Concept 2      3275 non-null   object \n",
      " 20  HHA Series         3275 non-null   object \n",
      " 21  HHA Set            3275 non-null   object \n",
      " 22  Interact           3275 non-null   object \n",
      " 23  Tag                3275 non-null   object \n",
      " 24  Outdoor            3275 non-null   object \n",
      " 25  Speaker Type       3275 non-null   object \n",
      " 26  Lighting Type      3275 non-null   object \n",
      " 27  Catalog            3275 non-null   object \n",
      " 28  Filename           3275 non-null   object \n",
      " 29  Variant ID         3153 non-null   object \n",
      " 30  Internal ID        3275 non-null   int64  \n",
      " 31  Unique Entry ID    3275 non-null   object \n",
      "dtypes: float64(2), int64(2), object(28)\n",
      "memory usage: 818.9+ KB\n"
     ]
    }
   ],
   "source": [
    "dataset_standarirasi.info()"
   ]
  },
  {
   "cell_type": "code",
   "execution_count": 209,
   "id": "b456b108",
   "metadata": {},
   "outputs": [],
   "source": [
    "dataset_standarirasi.drop('Name', axis = 1, inplace= True)"
   ]
  },
  {
   "cell_type": "code",
   "execution_count": 210,
   "id": "1f0f2572",
   "metadata": {},
   "outputs": [],
   "source": [
    "dataset_standarirasi.drop('Body Title', axis = 1, inplace= True)"
   ]
  },
  {
   "cell_type": "code",
   "execution_count": 211,
   "id": "41f16eea",
   "metadata": {},
   "outputs": [],
   "source": [
    "dataset_standarirasi.drop('Variation', axis = 1, inplace= True)"
   ]
  },
  {
   "cell_type": "code",
   "execution_count": 212,
   "id": "abf16b64",
   "metadata": {},
   "outputs": [],
   "source": [
    "dataset_standarirasi.drop('Pattern', axis = 1, inplace= True)"
   ]
  },
  {
   "cell_type": "code",
   "execution_count": 213,
   "id": "830344cc",
   "metadata": {},
   "outputs": [],
   "source": [
    "dataset_standarirasi.drop('Pattern Title', axis = 1, inplace= True)"
   ]
  },
  {
   "cell_type": "code",
   "execution_count": 214,
   "id": "79706af9",
   "metadata": {},
   "outputs": [],
   "source": [
    "dataset_standarirasi.drop('DIY', axis = 1, inplace= True)"
   ]
  },
  {
   "cell_type": "code",
   "execution_count": 215,
   "id": "82bf391f",
   "metadata": {},
   "outputs": [],
   "source": [
    "dataset_standarirasi.drop('Body Customize', axis = 1, inplace= True)"
   ]
  },
  {
   "cell_type": "code",
   "execution_count": 216,
   "id": "ef575ff5",
   "metadata": {},
   "outputs": [],
   "source": [
    "dataset_standarirasi.drop('Pattern Customize', axis = 1, inplace= True)"
   ]
  },
  {
   "cell_type": "code",
   "execution_count": 217,
   "id": "de5377f6",
   "metadata": {},
   "outputs": [],
   "source": [
    "dataset_standarirasi.drop('Buy', axis = 1, inplace= True)"
   ]
  },
  {
   "cell_type": "code",
   "execution_count": 218,
   "id": "77f60a58",
   "metadata": {},
   "outputs": [],
   "source": [
    "dataset_standarirasi.drop('Color 1', axis = 1, inplace= True)"
   ]
  },
  {
   "cell_type": "code",
   "execution_count": 219,
   "id": "8f386309",
   "metadata": {},
   "outputs": [],
   "source": [
    "dataset_standarirasi.drop('Color 2', axis = 1, inplace= True)"
   ]
  },
  {
   "cell_type": "code",
   "execution_count": 220,
   "id": "56be42cb",
   "metadata": {},
   "outputs": [],
   "source": [
    "dataset_standarirasi.drop('Size', axis = 1, inplace= True)"
   ]
  },
  {
   "cell_type": "code",
   "execution_count": 221,
   "id": "740590d0",
   "metadata": {},
   "outputs": [],
   "source": [
    "dataset_standarirasi.drop('Source', axis = 1, inplace= True)"
   ]
  },
  {
   "cell_type": "code",
   "execution_count": 222,
   "id": "d3cb1549",
   "metadata": {},
   "outputs": [],
   "source": [
    "dataset_standarirasi.drop('Source Notes', axis = 1, inplace= True)"
   ]
  },
  {
   "cell_type": "code",
   "execution_count": 223,
   "id": "f3825f34",
   "metadata": {},
   "outputs": [],
   "source": [
    "dataset_standarirasi.drop('Version', axis = 1, inplace= True)"
   ]
  },
  {
   "cell_type": "code",
   "execution_count": 224,
   "id": "b3deeca2",
   "metadata": {},
   "outputs": [],
   "source": [
    "dataset_standarirasi.drop('HHA Concept 1', axis = 1, inplace= True)"
   ]
  },
  {
   "cell_type": "code",
   "execution_count": 225,
   "id": "483229e6",
   "metadata": {},
   "outputs": [],
   "source": [
    "dataset_standarirasi.drop('HHA Concept 2', axis = 1, inplace= True)"
   ]
  },
  {
   "cell_type": "code",
   "execution_count": 226,
   "id": "5aca9df9",
   "metadata": {},
   "outputs": [],
   "source": [
    "dataset_standarirasi.drop('HHA Series', axis = 1, inplace= True)"
   ]
  },
  {
   "cell_type": "code",
   "execution_count": 227,
   "id": "eb9dc41a",
   "metadata": {},
   "outputs": [],
   "source": [
    "dataset_standarirasi.drop('HHA Set', axis = 1, inplace= True)"
   ]
  },
  {
   "cell_type": "code",
   "execution_count": 228,
   "id": "2d0ddf80",
   "metadata": {},
   "outputs": [],
   "source": [
    "dataset_standarirasi.drop('Interact', axis = 1, inplace= True)"
   ]
  },
  {
   "cell_type": "code",
   "execution_count": 229,
   "id": "e884a393",
   "metadata": {},
   "outputs": [],
   "source": [
    "dataset_standarirasi.drop('Tag', axis = 1, inplace= True)"
   ]
  },
  {
   "cell_type": "code",
   "execution_count": 230,
   "id": "3b4d59b3",
   "metadata": {},
   "outputs": [],
   "source": [
    "dataset_standarirasi.drop('Outdoor', axis = 1, inplace= True)"
   ]
  },
  {
   "cell_type": "code",
   "execution_count": 231,
   "id": "f625e027",
   "metadata": {},
   "outputs": [],
   "source": [
    "dataset_standarirasi.drop('Speaker Type', axis = 1, inplace= True)"
   ]
  },
  {
   "cell_type": "code",
   "execution_count": 232,
   "id": "dc2aed55",
   "metadata": {},
   "outputs": [],
   "source": [
    "dataset_standarirasi.drop('Lighting Type', axis = 1, inplace= True)"
   ]
  },
  {
   "cell_type": "code",
   "execution_count": 233,
   "id": "4f38f51e",
   "metadata": {},
   "outputs": [],
   "source": [
    "dataset_standarirasi.drop('Catalog', axis = 1, inplace= True)"
   ]
  },
  {
   "cell_type": "code",
   "execution_count": 234,
   "id": "767c2799",
   "metadata": {},
   "outputs": [],
   "source": [
    "dataset_standarirasi.drop('Filename', axis = 1, inplace= True)"
   ]
  },
  {
   "cell_type": "code",
   "execution_count": 235,
   "id": "fa481945",
   "metadata": {},
   "outputs": [],
   "source": [
    "dataset_standarirasi.drop('Variant ID', axis = 1, inplace= True)"
   ]
  },
  {
   "cell_type": "code",
   "execution_count": 236,
   "id": "d4dc5a0c",
   "metadata": {},
   "outputs": [],
   "source": [
    "dataset_standarirasi.drop('Unique Entry ID', axis = 1, inplace= True)"
   ]
  },
  {
   "cell_type": "code",
   "execution_count": 237,
   "id": "e2b8c8c3",
   "metadata": {},
   "outputs": [
    {
     "name": "stdout",
     "output_type": "stream",
     "text": [
      "<class 'pandas.core.frame.DataFrame'>\n",
      "RangeIndex: 3275 entries, 0 to 3274\n",
      "Data columns (total 4 columns):\n",
      " #   Column       Non-Null Count  Dtype  \n",
      "---  ------       --------------  -----  \n",
      " 0   Kit Cost     2239 non-null   float64\n",
      " 1   Sell         3275 non-null   int64  \n",
      " 2   Miles Price  115 non-null    float64\n",
      " 3   Internal ID  3275 non-null   int64  \n",
      "dtypes: float64(2), int64(2)\n",
      "memory usage: 102.5 KB\n"
     ]
    }
   ],
   "source": [
    "dataset_standarirasi.info()"
   ]
  },
  {
   "cell_type": "code",
   "execution_count": 238,
   "id": "eb1c7d58",
   "metadata": {},
   "outputs": [
    {
     "name": "stdout",
     "output_type": "stream",
     "text": [
      "Dataset sebelum scalling:\n",
      "Nilai standar deviasi:\n",
      "Kit Cost           3.492994\n",
      "Sell           13821.721317\n",
      "Miles Price     1270.415439\n",
      "Internal ID     2379.092724\n",
      "dtype: float64\n",
      "\n",
      "Dataset setelah scalling:\n",
      "[[ 0.49726284 -0.05797411         nan -1.35471041]\n",
      " [ 0.49726284 -0.05797411         nan -1.35471041]\n",
      " [ 0.49726284 -0.05797411         nan -1.35471041]\n",
      " [ 0.49726284 -0.05797411         nan -1.35471041]\n",
      " [ 0.49726284 -0.05797411         nan -1.35471041]\n",
      " [ 0.49726284 -0.05797411         nan -1.35471041]]\n",
      "Nilai standar deviasi: nan\n"
     ]
    }
   ],
   "source": [
    "standart_std = StandardScaler()\n",
    "\n",
    "scaled_data = standart_std.fit_transform(dataset_standarirasi)\n",
    "\n",
    "print('Dataset sebelum scalling:',  # SEBELUM\n",
    "      f'Nilai standar deviasi:\\n{np.std(dataset_standarirasi)}',\n",
    "      sep='\\n', end='\\n\\n')\n",
    "\n",
    "print('Dataset setelah scalling:',  # SESUDAH\n",
    "      scaled_data[:6],\n",
    "      f'Nilai standar deviasi: {np.std(scaled_data)}',\n",
    "      sep='\\n')"
   ]
  },
  {
   "cell_type": "markdown",
   "id": "75ec431b",
   "metadata": {},
   "source": [
    "## DATA CLEANING"
   ]
  },
  {
   "cell_type": "markdown",
   "id": "51dd11e8",
   "metadata": {},
   "source": [
    "Data yang kita gunakan bisa jadi sangat berantakan. Ada informasi yang tak lengkap, ada pula format yang berbeda-beda.Semua ini tentu membuat data itu sulit diolah. Pada akhirnya, ia jadi tak bisa dimanfaatkan. Untuk itulah kita harus melakukan data cleaning terlebih dahulu. Data cleaning adalah memperbarui, membetulkan, dan membuat data menjadi lebih rapi. Beberapa model machine learning tidak dapat bekerja dengan data yang masih berantakan. Kesalahan dalam data dapat berupa:\n",
    "\n",
    "- Terdapat nilai data yang tidak valid (Null)\n",
    "- Data dalam format yang salah\n",
    "- Terdapat duplikat"
   ]
  },
  {
   "cell_type": "code",
   "execution_count": 239,
   "id": "b27aba0d",
   "metadata": {},
   "outputs": [],
   "source": [
    "dataset_ns = df.copy()"
   ]
  },
  {
   "cell_type": "code",
   "execution_count": 240,
   "id": "07936d59",
   "metadata": {},
   "outputs": [],
   "source": [
    "imputer_mean = SimpleImputer(strategy='mean')\n",
    "imputer_median = SimpleImputer(strategy='median')\n",
    "imputer_modus = SimpleImputer(strategy='most_frequent')"
   ]
  },
  {
   "cell_type": "markdown",
   "id": "7313ac84",
   "metadata": {},
   "source": [
    "MODUS"
   ]
  },
  {
   "cell_type": "code",
   "execution_count": 241,
   "id": "b62a6054",
   "metadata": {},
   "outputs": [
    {
     "data": {
      "text/plain": [
       "Name                    0\n",
       "Variation             201\n",
       "Body Title           2093\n",
       "Pattern              1767\n",
       "Pattern Title        1767\n",
       "DIY                     0\n",
       "Body Customize          0\n",
       "Pattern Customize       0\n",
       "Kit Cost             1036\n",
       "Buy                     0\n",
       "Sell                    0\n",
       "Color 1                 0\n",
       "Color 2                 0\n",
       "Size                    0\n",
       "Miles Price          3160\n",
       "Source                  0\n",
       "Source Notes         1405\n",
       "Version                 0\n",
       "HHA Concept 1           0\n",
       "HHA Concept 2           0\n",
       "HHA Series              0\n",
       "HHA Set                 0\n",
       "Interact                0\n",
       "Tag                     0\n",
       "Outdoor                 0\n",
       "Speaker Type            0\n",
       "Lighting Type           0\n",
       "Catalog                 0\n",
       "Filename                0\n",
       "Variant ID            122\n",
       "Internal ID             0\n",
       "Unique Entry ID         0\n",
       "dtype: int64"
      ]
     },
     "execution_count": 241,
     "metadata": {},
     "output_type": "execute_result"
    }
   ],
   "source": [
    "df.isna().sum()"
   ]
  },
  {
   "cell_type": "code",
   "execution_count": 242,
   "id": "095b2709",
   "metadata": {},
   "outputs": [],
   "source": [
    "dfmodus = df.copy()"
   ]
  },
  {
   "cell_type": "code",
   "execution_count": 243,
   "id": "89f58be8",
   "metadata": {},
   "outputs": [
    {
     "data": {
      "text/plain": [
       "Name                    0\n",
       "Variation               0\n",
       "Body Title              0\n",
       "Pattern                 0\n",
       "Pattern Title           0\n",
       "DIY                     0\n",
       "Body Customize          0\n",
       "Pattern Customize       0\n",
       "Kit Cost             1036\n",
       "Buy                     0\n",
       "Sell                    0\n",
       "Color 1                 0\n",
       "Color 2                 0\n",
       "Size                    0\n",
       "Miles Price          3160\n",
       "Source                  0\n",
       "Source Notes            0\n",
       "Version                 0\n",
       "HHA Concept 1           0\n",
       "HHA Concept 2           0\n",
       "HHA Series              0\n",
       "HHA Set                 0\n",
       "Interact                0\n",
       "Tag                     0\n",
       "Outdoor                 0\n",
       "Speaker Type            0\n",
       "Lighting Type           0\n",
       "Catalog                 0\n",
       "Filename                0\n",
       "Variant ID              0\n",
       "Internal ID             0\n",
       "Unique Entry ID         0\n",
       "dtype: int64"
      ]
     },
     "execution_count": 243,
     "metadata": {},
     "output_type": "execute_result"
    }
   ],
   "source": [
    "\n",
    "dfmodus['Variation'] = imputer_modus.fit_transform(dfmodus[['Variation']])\n",
    "dfmodus['Body Title'] = imputer_modus.fit_transform(dfmodus[['Body Title']])\n",
    "dfmodus['Pattern'] = imputer_modus.fit_transform(dfmodus[['Pattern']])\n",
    "dfmodus['Pattern Title'] = imputer_modus.fit_transform(dfmodus[['Pattern Title']])\n",
    "dfmodus['Source Notes'] = imputer_modus.fit_transform(dfmodus[['Source Notes']])\n",
    "dfmodus['Variant ID'] = imputer_modus.fit_transform(dfmodus[['Variant ID']])\n",
    "\n",
    "dfmodus.isna().sum()"
   ]
  },
  {
   "cell_type": "markdown",
   "id": "6a25ceb5",
   "metadata": {},
   "source": [
    "MEAN"
   ]
  },
  {
   "cell_type": "code",
   "execution_count": 244,
   "id": "46685398",
   "metadata": {},
   "outputs": [
    {
     "data": {
      "text/plain": [
       "Name                 0\n",
       "Variation            0\n",
       "Body Title           0\n",
       "Pattern              0\n",
       "Pattern Title        0\n",
       "DIY                  0\n",
       "Body Customize       0\n",
       "Pattern Customize    0\n",
       "Kit Cost             0\n",
       "Buy                  0\n",
       "Sell                 0\n",
       "Color 1              0\n",
       "Color 2              0\n",
       "Size                 0\n",
       "Miles Price          0\n",
       "Source               0\n",
       "Source Notes         0\n",
       "Version              0\n",
       "HHA Concept 1        0\n",
       "HHA Concept 2        0\n",
       "HHA Series           0\n",
       "HHA Set              0\n",
       "Interact             0\n",
       "Tag                  0\n",
       "Outdoor              0\n",
       "Speaker Type         0\n",
       "Lighting Type        0\n",
       "Catalog              0\n",
       "Filename             0\n",
       "Variant ID           0\n",
       "Internal ID          0\n",
       "Unique Entry ID      0\n",
       "dtype: int64"
      ]
     },
     "execution_count": 244,
     "metadata": {},
     "output_type": "execute_result"
    }
   ],
   "source": [
    "\n",
    "dfmodus['Kit Cost'] = imputer_mean.fit_transform(dfmodus[['Kit Cost']])\n",
    "dfmodus['Miles Price'] = imputer_mean.fit_transform(dfmodus[['Miles Price']])\n",
    "\n",
    "dfmodus.isna().sum()"
   ]
  },
  {
   "cell_type": "markdown",
   "id": "18078fcb",
   "metadata": {},
   "source": [
    "DATA DUPLIKAT"
   ]
  },
  {
   "cell_type": "code",
   "execution_count": 246,
   "id": "906ac5cc",
   "metadata": {},
   "outputs": [
    {
     "data": {
      "text/plain": [
       "4"
      ]
     },
     "execution_count": 246,
     "metadata": {},
     "output_type": "execute_result"
    }
   ],
   "source": [
    "df2 = pd.read_csv('copy.csv')\n",
    "df2.head()\n",
    "dataset_duplicate = df2.copy()\n",
    "\n",
    "dataset_duplicate.duplicated().sum()"
   ]
  },
  {
   "cell_type": "code",
   "execution_count": 247,
   "id": "024b2eba",
   "metadata": {},
   "outputs": [
    {
     "data": {
      "text/plain": [
       "0"
      ]
     },
     "execution_count": 247,
     "metadata": {},
     "output_type": "execute_result"
    }
   ],
   "source": [
    "dataset_duplicate.drop_duplicates(inplace=True)\n",
    "\n",
    "dataset_duplicate.duplicated().sum()"
   ]
  },
  {
   "cell_type": "markdown",
   "id": "c76a1001",
   "metadata": {},
   "source": [
    "## ENCODING"
   ]
  },
  {
   "cell_type": "markdown",
   "id": "87be5ad5",
   "metadata": {},
   "source": [
    "Encoding adalah salah tahap pre-processing ketika kita menghadapi data yang bersifat kategorikal. Encoding adalah teknik yang mengubah variabel kategorikal menjadi variabel numerik, model dalam machine learning membutuhkan input yang bertipe numerik sehingga sangat penting bagi kita untuk melakukan encoding jika terdapat variabel yang bertipe kategorikal didalam data kita. Teknik encoding yang paling terkenal adalah Ordinal Encoding dan One-Hot Encoding"
   ]
  },
  {
   "cell_type": "code",
   "execution_count": 248,
   "id": "593a8d96",
   "metadata": {},
   "outputs": [],
   "source": [
    "dataset_ordinal = df.copy()\n",
    "dataset_one_hot = df.copy()"
   ]
  },
  {
   "cell_type": "code",
   "execution_count": 249,
   "id": "2af91630",
   "metadata": {},
   "outputs": [
    {
     "data": {
      "text/plain": [
       "array(['Not for sale', 'For sale', 'Not in catalog'], dtype=object)"
      ]
     },
     "execution_count": 249,
     "metadata": {},
     "output_type": "execute_result"
    }
   ],
   "source": [
    "df['Catalog'].unique()"
   ]
  },
  {
   "cell_type": "markdown",
   "id": "fc15fc8e",
   "metadata": {},
   "source": [
    "ORDINAL"
   ]
  },
  {
   "cell_type": "code",
   "execution_count": 250,
   "id": "96baf2b8",
   "metadata": {},
   "outputs": [
    {
     "data": {
      "text/html": [
       "<div>\n",
       "<style scoped>\n",
       "    .dataframe tbody tr th:only-of-type {\n",
       "        vertical-align: middle;\n",
       "    }\n",
       "\n",
       "    .dataframe tbody tr th {\n",
       "        vertical-align: top;\n",
       "    }\n",
       "\n",
       "    .dataframe thead th {\n",
       "        text-align: right;\n",
       "    }\n",
       "</style>\n",
       "<table border=\"1\" class=\"dataframe\">\n",
       "  <thead>\n",
       "    <tr style=\"text-align: right;\">\n",
       "      <th></th>\n",
       "      <th>Name</th>\n",
       "      <th>Variation</th>\n",
       "      <th>Body Title</th>\n",
       "      <th>Pattern</th>\n",
       "      <th>Pattern Title</th>\n",
       "      <th>DIY</th>\n",
       "      <th>Body Customize</th>\n",
       "      <th>Pattern Customize</th>\n",
       "      <th>Kit Cost</th>\n",
       "      <th>Buy</th>\n",
       "      <th>...</th>\n",
       "      <th>Interact</th>\n",
       "      <th>Tag</th>\n",
       "      <th>Outdoor</th>\n",
       "      <th>Speaker Type</th>\n",
       "      <th>Lighting Type</th>\n",
       "      <th>Catalog</th>\n",
       "      <th>Filename</th>\n",
       "      <th>Variant ID</th>\n",
       "      <th>Internal ID</th>\n",
       "      <th>Unique Entry ID</th>\n",
       "    </tr>\n",
       "  </thead>\n",
       "  <tbody>\n",
       "    <tr>\n",
       "      <th>0</th>\n",
       "      <td>acoustic guitar</td>\n",
       "      <td>Natural</td>\n",
       "      <td>Body</td>\n",
       "      <td>NaN</td>\n",
       "      <td>NaN</td>\n",
       "      <td>Yes</td>\n",
       "      <td>Yes</td>\n",
       "      <td>No</td>\n",
       "      <td>5.0</td>\n",
       "      <td>NFS</td>\n",
       "      <td>...</td>\n",
       "      <td>Yes</td>\n",
       "      <td>Musical Instrument</td>\n",
       "      <td>No</td>\n",
       "      <td>Does not play music</td>\n",
       "      <td>No lighting</td>\n",
       "      <td>1</td>\n",
       "      <td>FtrAcorsticguitar_Remake_0_0</td>\n",
       "      <td>0_0</td>\n",
       "      <td>383</td>\n",
       "      <td>EpywQXABBcv2dipsP</td>\n",
       "    </tr>\n",
       "    <tr>\n",
       "      <th>1</th>\n",
       "      <td>acoustic guitar</td>\n",
       "      <td>Cherry</td>\n",
       "      <td>Body</td>\n",
       "      <td>NaN</td>\n",
       "      <td>NaN</td>\n",
       "      <td>Yes</td>\n",
       "      <td>Yes</td>\n",
       "      <td>No</td>\n",
       "      <td>5.0</td>\n",
       "      <td>NFS</td>\n",
       "      <td>...</td>\n",
       "      <td>Yes</td>\n",
       "      <td>Musical Instrument</td>\n",
       "      <td>No</td>\n",
       "      <td>Does not play music</td>\n",
       "      <td>No lighting</td>\n",
       "      <td>1</td>\n",
       "      <td>FtrAcorsticguitar_Remake_1_0</td>\n",
       "      <td>1_0</td>\n",
       "      <td>383</td>\n",
       "      <td>K9she5Y4SuXA8MGBR</td>\n",
       "    </tr>\n",
       "    <tr>\n",
       "      <th>2</th>\n",
       "      <td>acoustic guitar</td>\n",
       "      <td>Brown</td>\n",
       "      <td>Body</td>\n",
       "      <td>NaN</td>\n",
       "      <td>NaN</td>\n",
       "      <td>Yes</td>\n",
       "      <td>Yes</td>\n",
       "      <td>No</td>\n",
       "      <td>5.0</td>\n",
       "      <td>NFS</td>\n",
       "      <td>...</td>\n",
       "      <td>Yes</td>\n",
       "      <td>Musical Instrument</td>\n",
       "      <td>No</td>\n",
       "      <td>Does not play music</td>\n",
       "      <td>No lighting</td>\n",
       "      <td>1</td>\n",
       "      <td>FtrAcorsticguitar_Remake_2_0</td>\n",
       "      <td>2_0</td>\n",
       "      <td>383</td>\n",
       "      <td>vLq9iphAvALBXazDr</td>\n",
       "    </tr>\n",
       "    <tr>\n",
       "      <th>3</th>\n",
       "      <td>acoustic guitar</td>\n",
       "      <td>Blue</td>\n",
       "      <td>Body</td>\n",
       "      <td>NaN</td>\n",
       "      <td>NaN</td>\n",
       "      <td>Yes</td>\n",
       "      <td>Yes</td>\n",
       "      <td>No</td>\n",
       "      <td>5.0</td>\n",
       "      <td>NFS</td>\n",
       "      <td>...</td>\n",
       "      <td>Yes</td>\n",
       "      <td>Musical Instrument</td>\n",
       "      <td>No</td>\n",
       "      <td>Does not play music</td>\n",
       "      <td>No lighting</td>\n",
       "      <td>1</td>\n",
       "      <td>FtrAcorsticguitar_Remake_3_0</td>\n",
       "      <td>3_0</td>\n",
       "      <td>383</td>\n",
       "      <td>nuqeFzNE5PneqGHaj</td>\n",
       "    </tr>\n",
       "    <tr>\n",
       "      <th>4</th>\n",
       "      <td>acoustic guitar</td>\n",
       "      <td>White</td>\n",
       "      <td>Body</td>\n",
       "      <td>NaN</td>\n",
       "      <td>NaN</td>\n",
       "      <td>Yes</td>\n",
       "      <td>Yes</td>\n",
       "      <td>No</td>\n",
       "      <td>5.0</td>\n",
       "      <td>NFS</td>\n",
       "      <td>...</td>\n",
       "      <td>Yes</td>\n",
       "      <td>Musical Instrument</td>\n",
       "      <td>No</td>\n",
       "      <td>Does not play music</td>\n",
       "      <td>No lighting</td>\n",
       "      <td>1</td>\n",
       "      <td>FtrAcorsticguitar_Remake_4_0</td>\n",
       "      <td>4_0</td>\n",
       "      <td>383</td>\n",
       "      <td>DotFsojrhCwrLZ3TF</td>\n",
       "    </tr>\n",
       "  </tbody>\n",
       "</table>\n",
       "<p>5 rows × 32 columns</p>\n",
       "</div>"
      ],
      "text/plain": [
       "              Name Variation Body Title Pattern Pattern Title  DIY  \\\n",
       "0  acoustic guitar   Natural       Body     NaN           NaN  Yes   \n",
       "1  acoustic guitar    Cherry       Body     NaN           NaN  Yes   \n",
       "2  acoustic guitar     Brown       Body     NaN           NaN  Yes   \n",
       "3  acoustic guitar      Blue       Body     NaN           NaN  Yes   \n",
       "4  acoustic guitar     White       Body     NaN           NaN  Yes   \n",
       "\n",
       "  Body Customize Pattern Customize  Kit Cost  Buy  ...  Interact  \\\n",
       "0            Yes                No       5.0  NFS  ...       Yes   \n",
       "1            Yes                No       5.0  NFS  ...       Yes   \n",
       "2            Yes                No       5.0  NFS  ...       Yes   \n",
       "3            Yes                No       5.0  NFS  ...       Yes   \n",
       "4            Yes                No       5.0  NFS  ...       Yes   \n",
       "\n",
       "                  Tag Outdoor         Speaker Type  Lighting Type Catalog  \\\n",
       "0  Musical Instrument      No  Does not play music    No lighting       1   \n",
       "1  Musical Instrument      No  Does not play music    No lighting       1   \n",
       "2  Musical Instrument      No  Does not play music    No lighting       1   \n",
       "3  Musical Instrument      No  Does not play music    No lighting       1   \n",
       "4  Musical Instrument      No  Does not play music    No lighting       1   \n",
       "\n",
       "                       Filename Variant ID Internal ID    Unique Entry ID  \n",
       "0  FtrAcorsticguitar_Remake_0_0        0_0         383  EpywQXABBcv2dipsP  \n",
       "1  FtrAcorsticguitar_Remake_1_0        1_0         383  K9she5Y4SuXA8MGBR  \n",
       "2  FtrAcorsticguitar_Remake_2_0        2_0         383  vLq9iphAvALBXazDr  \n",
       "3  FtrAcorsticguitar_Remake_3_0        3_0         383  nuqeFzNE5PneqGHaj  \n",
       "4  FtrAcorsticguitar_Remake_4_0        4_0         383  DotFsojrhCwrLZ3TF  \n",
       "\n",
       "[5 rows x 32 columns]"
      ]
     },
     "execution_count": 250,
     "metadata": {},
     "output_type": "execute_result"
    }
   ],
   "source": [
    "encoder_ordinal =OrdinalEncoder()\n",
    "\n",
    "#encoding kan\n",
    "dataset_ordinal['Catalog'] = encoder_ordinal.fit_transform(dataset_ordinal[['Catalog']]).astype('int64')\n",
    "\n",
    "#lihat\n",
    "dataset_ordinal.head()"
   ]
  },
  {
   "cell_type": "code",
   "execution_count": 251,
   "id": "5b7a827f",
   "metadata": {},
   "outputs": [
    {
     "data": {
      "text/plain": [
       "array([1, 0, 2], dtype=int64)"
      ]
     },
     "execution_count": 251,
     "metadata": {},
     "output_type": "execute_result"
    }
   ],
   "source": [
    "dataset_ordinal['Catalog'].unique()"
   ]
  },
  {
   "cell_type": "markdown",
   "id": "5b180cfe",
   "metadata": {},
   "source": [
    "ONE-HOT"
   ]
  },
  {
   "cell_type": "code",
   "execution_count": 252,
   "id": "b39896d9",
   "metadata": {},
   "outputs": [
    {
     "data": {
      "text/html": [
       "<div>\n",
       "<style scoped>\n",
       "    .dataframe tbody tr th:only-of-type {\n",
       "        vertical-align: middle;\n",
       "    }\n",
       "\n",
       "    .dataframe tbody tr th {\n",
       "        vertical-align: top;\n",
       "    }\n",
       "\n",
       "    .dataframe thead th {\n",
       "        text-align: right;\n",
       "    }\n",
       "</style>\n",
       "<table border=\"1\" class=\"dataframe\">\n",
       "  <thead>\n",
       "    <tr style=\"text-align: right;\">\n",
       "      <th></th>\n",
       "      <th>Name</th>\n",
       "      <th>Variation</th>\n",
       "      <th>Body Title</th>\n",
       "      <th>Pattern</th>\n",
       "      <th>Pattern Title</th>\n",
       "      <th>DIY</th>\n",
       "      <th>Body Customize</th>\n",
       "      <th>Pattern Customize</th>\n",
       "      <th>Kit Cost</th>\n",
       "      <th>Buy</th>\n",
       "      <th>...</th>\n",
       "      <th>Outdoor</th>\n",
       "      <th>Speaker Type</th>\n",
       "      <th>Lighting Type</th>\n",
       "      <th>Filename</th>\n",
       "      <th>Variant ID</th>\n",
       "      <th>Internal ID</th>\n",
       "      <th>Unique Entry ID</th>\n",
       "      <th>Catalog_For sale</th>\n",
       "      <th>Catalog_Not for sale</th>\n",
       "      <th>Catalog_Not in catalog</th>\n",
       "    </tr>\n",
       "  </thead>\n",
       "  <tbody>\n",
       "    <tr>\n",
       "      <th>0</th>\n",
       "      <td>acoustic guitar</td>\n",
       "      <td>Natural</td>\n",
       "      <td>Body</td>\n",
       "      <td>NaN</td>\n",
       "      <td>NaN</td>\n",
       "      <td>Yes</td>\n",
       "      <td>Yes</td>\n",
       "      <td>No</td>\n",
       "      <td>5.0</td>\n",
       "      <td>NFS</td>\n",
       "      <td>...</td>\n",
       "      <td>No</td>\n",
       "      <td>Does not play music</td>\n",
       "      <td>No lighting</td>\n",
       "      <td>FtrAcorsticguitar_Remake_0_0</td>\n",
       "      <td>0_0</td>\n",
       "      <td>383</td>\n",
       "      <td>EpywQXABBcv2dipsP</td>\n",
       "      <td>0</td>\n",
       "      <td>1</td>\n",
       "      <td>0</td>\n",
       "    </tr>\n",
       "    <tr>\n",
       "      <th>1</th>\n",
       "      <td>acoustic guitar</td>\n",
       "      <td>Cherry</td>\n",
       "      <td>Body</td>\n",
       "      <td>NaN</td>\n",
       "      <td>NaN</td>\n",
       "      <td>Yes</td>\n",
       "      <td>Yes</td>\n",
       "      <td>No</td>\n",
       "      <td>5.0</td>\n",
       "      <td>NFS</td>\n",
       "      <td>...</td>\n",
       "      <td>No</td>\n",
       "      <td>Does not play music</td>\n",
       "      <td>No lighting</td>\n",
       "      <td>FtrAcorsticguitar_Remake_1_0</td>\n",
       "      <td>1_0</td>\n",
       "      <td>383</td>\n",
       "      <td>K9she5Y4SuXA8MGBR</td>\n",
       "      <td>0</td>\n",
       "      <td>1</td>\n",
       "      <td>0</td>\n",
       "    </tr>\n",
       "    <tr>\n",
       "      <th>2</th>\n",
       "      <td>acoustic guitar</td>\n",
       "      <td>Brown</td>\n",
       "      <td>Body</td>\n",
       "      <td>NaN</td>\n",
       "      <td>NaN</td>\n",
       "      <td>Yes</td>\n",
       "      <td>Yes</td>\n",
       "      <td>No</td>\n",
       "      <td>5.0</td>\n",
       "      <td>NFS</td>\n",
       "      <td>...</td>\n",
       "      <td>No</td>\n",
       "      <td>Does not play music</td>\n",
       "      <td>No lighting</td>\n",
       "      <td>FtrAcorsticguitar_Remake_2_0</td>\n",
       "      <td>2_0</td>\n",
       "      <td>383</td>\n",
       "      <td>vLq9iphAvALBXazDr</td>\n",
       "      <td>0</td>\n",
       "      <td>1</td>\n",
       "      <td>0</td>\n",
       "    </tr>\n",
       "    <tr>\n",
       "      <th>3</th>\n",
       "      <td>acoustic guitar</td>\n",
       "      <td>Blue</td>\n",
       "      <td>Body</td>\n",
       "      <td>NaN</td>\n",
       "      <td>NaN</td>\n",
       "      <td>Yes</td>\n",
       "      <td>Yes</td>\n",
       "      <td>No</td>\n",
       "      <td>5.0</td>\n",
       "      <td>NFS</td>\n",
       "      <td>...</td>\n",
       "      <td>No</td>\n",
       "      <td>Does not play music</td>\n",
       "      <td>No lighting</td>\n",
       "      <td>FtrAcorsticguitar_Remake_3_0</td>\n",
       "      <td>3_0</td>\n",
       "      <td>383</td>\n",
       "      <td>nuqeFzNE5PneqGHaj</td>\n",
       "      <td>0</td>\n",
       "      <td>1</td>\n",
       "      <td>0</td>\n",
       "    </tr>\n",
       "    <tr>\n",
       "      <th>4</th>\n",
       "      <td>acoustic guitar</td>\n",
       "      <td>White</td>\n",
       "      <td>Body</td>\n",
       "      <td>NaN</td>\n",
       "      <td>NaN</td>\n",
       "      <td>Yes</td>\n",
       "      <td>Yes</td>\n",
       "      <td>No</td>\n",
       "      <td>5.0</td>\n",
       "      <td>NFS</td>\n",
       "      <td>...</td>\n",
       "      <td>No</td>\n",
       "      <td>Does not play music</td>\n",
       "      <td>No lighting</td>\n",
       "      <td>FtrAcorsticguitar_Remake_4_0</td>\n",
       "      <td>4_0</td>\n",
       "      <td>383</td>\n",
       "      <td>DotFsojrhCwrLZ3TF</td>\n",
       "      <td>0</td>\n",
       "      <td>1</td>\n",
       "      <td>0</td>\n",
       "    </tr>\n",
       "  </tbody>\n",
       "</table>\n",
       "<p>5 rows × 34 columns</p>\n",
       "</div>"
      ],
      "text/plain": [
       "              Name Variation Body Title Pattern Pattern Title  DIY  \\\n",
       "0  acoustic guitar   Natural       Body     NaN           NaN  Yes   \n",
       "1  acoustic guitar    Cherry       Body     NaN           NaN  Yes   \n",
       "2  acoustic guitar     Brown       Body     NaN           NaN  Yes   \n",
       "3  acoustic guitar      Blue       Body     NaN           NaN  Yes   \n",
       "4  acoustic guitar     White       Body     NaN           NaN  Yes   \n",
       "\n",
       "  Body Customize Pattern Customize  Kit Cost  Buy  ...  Outdoor  \\\n",
       "0            Yes                No       5.0  NFS  ...       No   \n",
       "1            Yes                No       5.0  NFS  ...       No   \n",
       "2            Yes                No       5.0  NFS  ...       No   \n",
       "3            Yes                No       5.0  NFS  ...       No   \n",
       "4            Yes                No       5.0  NFS  ...       No   \n",
       "\n",
       "          Speaker Type Lighting Type                      Filename  \\\n",
       "0  Does not play music   No lighting  FtrAcorsticguitar_Remake_0_0   \n",
       "1  Does not play music   No lighting  FtrAcorsticguitar_Remake_1_0   \n",
       "2  Does not play music   No lighting  FtrAcorsticguitar_Remake_2_0   \n",
       "3  Does not play music   No lighting  FtrAcorsticguitar_Remake_3_0   \n",
       "4  Does not play music   No lighting  FtrAcorsticguitar_Remake_4_0   \n",
       "\n",
       "   Variant ID Internal ID    Unique Entry ID Catalog_For sale  \\\n",
       "0         0_0         383  EpywQXABBcv2dipsP                0   \n",
       "1         1_0         383  K9she5Y4SuXA8MGBR                0   \n",
       "2         2_0         383  vLq9iphAvALBXazDr                0   \n",
       "3         3_0         383  nuqeFzNE5PneqGHaj                0   \n",
       "4         4_0         383  DotFsojrhCwrLZ3TF                0   \n",
       "\n",
       "  Catalog_Not for sale Catalog_Not in catalog  \n",
       "0                    1                      0  \n",
       "1                    1                      0  \n",
       "2                    1                      0  \n",
       "3                    1                      0  \n",
       "4                    1                      0  \n",
       "\n",
       "[5 rows x 34 columns]"
      ]
     },
     "execution_count": 252,
     "metadata": {},
     "output_type": "execute_result"
    }
   ],
   "source": [
    "temp_dataset = pd.get_dummies(dataset_one_hot[['Catalog']])\n",
    "\n",
    "temp_dataset = pd.DataFrame(temp_dataset)\n",
    "\n",
    "dataset_one_hot.drop('Catalog', axis=1, inplace=True)\n",
    "\n",
    "dataset_one_hot = dataset_one_hot.join(temp_dataset)\n",
    "dataset_one_hot.head(5)"
   ]
  },
  {
   "cell_type": "code",
   "execution_count": null,
   "id": "f868346b",
   "metadata": {},
   "outputs": [],
   "source": []
  }
 ],
 "metadata": {
  "kernelspec": {
   "display_name": "Python 3 (ipykernel)",
   "language": "python",
   "name": "python3"
  },
  "language_info": {
   "codemirror_mode": {
    "name": "ipython",
    "version": 3
   },
   "file_extension": ".py",
   "mimetype": "text/x-python",
   "name": "python",
   "nbconvert_exporter": "python",
   "pygments_lexer": "ipython3",
   "version": "3.10.4"
  }
 },
 "nbformat": 4,
 "nbformat_minor": 5
}
