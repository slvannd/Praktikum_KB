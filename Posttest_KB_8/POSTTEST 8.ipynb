{
 "cells": [
  {
   "cell_type": "markdown",
   "id": "7e954863",
   "metadata": {},
   "source": [
    "# POSTTEST 2\n",
    "### Silvia Ananda(2009106120)"
   ]
  },
  {
   "cell_type": "markdown",
   "id": "59a2307e",
   "metadata": {},
   "source": [
    "Import Package yang dibutuhkan"
   ]
  },
  {
   "cell_type": "code",
   "execution_count": 2,
   "id": "21e60c79",
   "metadata": {},
   "outputs": [],
   "source": [
    "import tensorflow as tf\n",
    "import tensorflow.keras.datasets as tfds\n",
    "import matplotlib.pyplot as plt\n",
    "import numpy as np\n",
    "import pandas as pd"
   ]
  },
  {
   "cell_type": "code",
   "execution_count": 3,
   "id": "784e8488",
   "metadata": {},
   "outputs": [
    {
     "name": "stdout",
     "output_type": "stream",
     "text": [
      "Downloading data from https://storage.googleapis.com/tensorflow/tf-keras-datasets/train-labels-idx1-ubyte.gz\n",
      "29515/29515 [==============================] - 0s 1us/step\n",
      "Downloading data from https://storage.googleapis.com/tensorflow/tf-keras-datasets/train-images-idx3-ubyte.gz\n",
      "26421880/26421880 [==============================] - 5s 0us/step\n",
      "Downloading data from https://storage.googleapis.com/tensorflow/tf-keras-datasets/t10k-labels-idx1-ubyte.gz\n",
      "5148/5148 [==============================] - 0s 0s/step\n",
      "Downloading data from https://storage.googleapis.com/tensorflow/tf-keras-datasets/t10k-images-idx3-ubyte.gz\n",
      "4422102/4422102 [==============================] - 1s 0us/step\n"
     ]
    }
   ],
   "source": [
    "(x_train_raw, y_train_raw), (x_test_raw, y_test_raw) = tfds.fashion_mnist.load_data()"
   ]
  },
  {
   "cell_type": "markdown",
   "id": "b83350e6",
   "metadata": {},
   "source": [
    "Menampilkan panjang data testing dan training"
   ]
  },
  {
   "cell_type": "code",
   "execution_count": 4,
   "id": "9739266a",
   "metadata": {},
   "outputs": [
    {
     "name": "stdout",
     "output_type": "stream",
     "text": [
      "panjang x train : 60000\n",
      "panjang y train : 60000\n",
      "panjang x test : 10000\n",
      "panjang y test : 10000\n"
     ]
    }
   ],
   "source": [
    "print(f'panjang x train : {len(x_train_raw)}',\n",
    "    f'panjang y train : {len(y_train_raw)}',\n",
    "    f'panjang x test : {len(x_test_raw)}',\n",
    "    f'panjang y test : {len(y_test_raw)}',\n",
    "    sep='\\n')"
   ]
  },
  {
   "cell_type": "markdown",
   "id": "3593565c",
   "metadata": {},
   "source": [
    "Menampilkan gambar yang ke-10"
   ]
  },
  {
   "cell_type": "code",
   "execution_count": 5,
   "id": "b82927ed",
   "metadata": {},
   "outputs": [
    {
     "data": {
      "text/plain": [
       "<matplotlib.image.AxesImage at 0x1c2516b3880>"
      ]
     },
     "execution_count": 5,
     "metadata": {},
     "output_type": "execute_result"
    },
    {
     "data": {
      "image/png": "[encoded data removed]",
      "text/plain": [
       "<Figure size 640x480 with 1 Axes>"
      ]
     },
     "metadata": {},
     "output_type": "display_data"
    }
   ],
   "source": [
    "plt.imshow(x_train_raw[10])"
   ]
  },
  {
   "cell_type": "code",
   "execution_count": 6,
   "id": "cd460c58",
   "metadata": {},
   "outputs": [
    {
     "name": "stdout",
     "output_type": "stream",
     "text": [
      "[0. 0. 0. 0. 0. 0. 0. 0. 0. 1.]\n"
     ]
    }
   ],
   "source": [
    "num_class = len(np.unique(y_train_raw))\n",
    "y_train = tf.keras.utils.to_categorical(y_train_raw, num_class)\n",
    "y_test = tf.keras.utils.to_categorical(y_test_raw, num_class)\n",
    "print(y_train[0])"
   ]
  },
  {
   "cell_type": "code",
   "execution_count": 7,
   "id": "45308216",
   "metadata": {},
   "outputs": [
    {
     "data": {
      "text/plain": [
       "(60000, 28, 28)"
      ]
     },
     "execution_count": 7,
     "metadata": {},
     "output_type": "execute_result"
    }
   ],
   "source": [
    "x_train_raw.shape"
   ]
  },
  {
   "cell_type": "markdown",
   "id": "4d707ed2",
   "metadata": {},
   "source": [
    "Reshape Gambar"
   ]
  },
  {
   "cell_type": "code",
   "execution_count": 8,
   "id": "b0233305",
   "metadata": {},
   "outputs": [],
   "source": [
    "x_train = tf.reshape(x_train_raw, [60000, 784])\n",
    "x_test = tf.reshape(x_test_raw, [10000, 784])"
   ]
  },
  {
   "cell_type": "code",
   "execution_count": 9,
   "id": "03607e65",
   "metadata": {},
   "outputs": [],
   "source": [
    "x_train = tf.cast(x_train, tf.float32)/300\n",
    "x_test = tf.cast(x_test, tf.float32)/300"
   ]
  },
  {
   "cell_type": "markdown",
   "id": "15ae24c7",
   "metadata": {},
   "source": [
    "Membuat model"
   ]
  },
  {
   "cell_type": "code",
   "execution_count": 10,
   "id": "fc6977ed",
   "metadata": {},
   "outputs": [],
   "source": [
    "model = tf.keras.Sequential([\n",
    "    tf.keras.layers.Dense(32, activation='relu', input_dim = 784),\n",
    "    tf.keras.layers.Dense(32, activation='relu'),\n",
    "    tf.keras.layers.Dense(num_class, activation='softmax')\n",
    "])"
   ]
  },
  {
   "cell_type": "code",
   "execution_count": 11,
   "id": "322284a7",
   "metadata": {},
   "outputs": [],
   "source": [
    "model.compile(\n",
    "    optimizer=tf.keras.optimizers.Adam(),\n",
    "    loss=tf.keras.losses.categorical_crossentropy,\n",
    "    metrics=['accuracy']\n",
    ")"
   ]
  },
  {
   "cell_type": "markdown",
   "id": "3e3e7a74",
   "metadata": {},
   "source": [
    "Training Model"
   ]
  },
  {
   "cell_type": "code",
   "execution_count": 13,
   "id": "f3ba5162",
   "metadata": {},
   "outputs": [
    {
     "name": "stdout",
     "output_type": "stream",
     "text": [
      "Epoch 1/20\n",
      "10/10 - 0s - loss: 0.4022 - accuracy: 0.8615 - val_loss: 0.4403 - val_accuracy: 0.8468 - 378ms/epoch - 38ms/step\n",
      "Epoch 2/20\n",
      "10/10 - 0s - loss: 0.3987 - accuracy: 0.8644 - val_loss: 0.4383 - val_accuracy: 0.8462 - 306ms/epoch - 31ms/step\n",
      "Epoch 3/20\n",
      "10/10 - 0s - loss: 0.3959 - accuracy: 0.8644 - val_loss: 0.4353 - val_accuracy: 0.8489 - 311ms/epoch - 31ms/step\n",
      "Epoch 4/20\n",
      "10/10 - 0s - loss: 0.3940 - accuracy: 0.8648 - val_loss: 0.4356 - val_accuracy: 0.8467 - 312ms/epoch - 31ms/step\n",
      "Epoch 5/20\n",
      "10/10 - 0s - loss: 0.3919 - accuracy: 0.8651 - val_loss: 0.4311 - val_accuracy: 0.8497 - 336ms/epoch - 34ms/step\n",
      "Epoch 6/20\n",
      "10/10 - 0s - loss: 0.3896 - accuracy: 0.8658 - val_loss: 0.4328 - val_accuracy: 0.8481 - 343ms/epoch - 34ms/step\n",
      "Epoch 7/20\n",
      "10/10 - 0s - loss: 0.3875 - accuracy: 0.8658 - val_loss: 0.4289 - val_accuracy: 0.8508 - 319ms/epoch - 32ms/step\n",
      "Epoch 8/20\n",
      "10/10 - 0s - loss: 0.3845 - accuracy: 0.8682 - val_loss: 0.4265 - val_accuracy: 0.8508 - 312ms/epoch - 31ms/step\n",
      "Epoch 9/20\n",
      "10/10 - 0s - loss: 0.3828 - accuracy: 0.8683 - val_loss: 0.4246 - val_accuracy: 0.8534 - 304ms/epoch - 30ms/step\n",
      "Epoch 10/20\n",
      "10/10 - 0s - loss: 0.3800 - accuracy: 0.8690 - val_loss: 0.4228 - val_accuracy: 0.8535 - 307ms/epoch - 31ms/step\n",
      "Epoch 11/20\n",
      "10/10 - 0s - loss: 0.3790 - accuracy: 0.8690 - val_loss: 0.4228 - val_accuracy: 0.8544 - 309ms/epoch - 31ms/step\n",
      "Epoch 12/20\n",
      "10/10 - 0s - loss: 0.3771 - accuracy: 0.8696 - val_loss: 0.4210 - val_accuracy: 0.8541 - 398ms/epoch - 40ms/step\n",
      "Epoch 13/20\n",
      "10/10 - 0s - loss: 0.3744 - accuracy: 0.8709 - val_loss: 0.4188 - val_accuracy: 0.8540 - 415ms/epoch - 42ms/step\n",
      "Epoch 14/20\n",
      "10/10 - 0s - loss: 0.3734 - accuracy: 0.8706 - val_loss: 0.4199 - val_accuracy: 0.8535 - 331ms/epoch - 33ms/step\n",
      "Epoch 15/20\n",
      "10/10 - 0s - loss: 0.3714 - accuracy: 0.8717 - val_loss: 0.4157 - val_accuracy: 0.8561 - 379ms/epoch - 38ms/step\n",
      "Epoch 16/20\n",
      "10/10 - 0s - loss: 0.3693 - accuracy: 0.8718 - val_loss: 0.4152 - val_accuracy: 0.8562 - 320ms/epoch - 32ms/step\n",
      "Epoch 17/20\n",
      "10/10 - 0s - loss: 0.3691 - accuracy: 0.8722 - val_loss: 0.4155 - val_accuracy: 0.8561 - 332ms/epoch - 33ms/step\n",
      "Epoch 18/20\n",
      "10/10 - 0s - loss: 0.3662 - accuracy: 0.8728 - val_loss: 0.4127 - val_accuracy: 0.8589 - 318ms/epoch - 32ms/step\n",
      "Epoch 19/20\n",
      "10/10 - 0s - loss: 0.3637 - accuracy: 0.8741 - val_loss: 0.4114 - val_accuracy: 0.8555 - 322ms/epoch - 32ms/step\n",
      "Epoch 20/20\n",
      "10/10 - 0s - loss: 0.3624 - accuracy: 0.8747 - val_loss: 0.4104 - val_accuracy: 0.8575 - 294ms/epoch - 29ms/step\n"
     ]
    }
   ],
   "source": [
    "history = model.fit(\n",
    "    x_train, y_train,\n",
    "    epochs =20, steps_per_epoch=10,\n",
    "    verbose =2,\n",
    "    validation_data=(x_test, y_test)\n",
    ")"
   ]
  },
  {
   "cell_type": "markdown",
   "id": "66be7773",
   "metadata": {},
   "source": [
    "History"
   ]
  },
  {
   "cell_type": "code",
   "execution_count": 14,
   "id": "c63df3fd",
   "metadata": {},
   "outputs": [
    {
     "data": {
      "image/png": "[encoded data removed]",
      "text/plain": [
       "<Figure size 640x480 with 1 Axes>"
      ]
     },
     "metadata": {},
     "output_type": "display_data"
    }
   ],
   "source": [
    "nilai_x = range(len(history.history['accuracy']))\n",
    "plt.plot(nilai_x, history.history['accuracy'],label='Training')\n",
    "plt.plot(nilai_x, history.history['val_accuracy'],label='Validation')\n",
    "plt.legend()\n",
    "plt.show()"
   ]
  },
  {
   "cell_type": "code",
   "execution_count": 15,
   "id": "b3a797dd",
   "metadata": {},
   "outputs": [],
   "source": [
    "model.save('model/model.h5')"
   ]
  },
  {
   "cell_type": "code",
   "execution_count": 16,
   "id": "ca640882",
   "metadata": {},
   "outputs": [
    {
     "name": "stdout",
     "output_type": "stream",
     "text": [
      "Model: \"sequential\"\n",
      "_________________________________________________________________\n",
      " Layer (type)                Output Shape              Param #   \n",
      "=================================================================\n",
      " dense (Dense)               (None, 32)                25120     \n",
      "                                                                 \n",
      " dense_1 (Dense)             (None, 32)                1056      \n",
      "                                                                 \n",
      " dense_2 (Dense)             (None, 10)                330       \n",
      "                                                                 \n",
      "=================================================================\n",
      "Total params: 26,506\n",
      "Trainable params: 26,506\n",
      "Non-trainable params: 0\n",
      "_________________________________________________________________\n"
     ]
    }
   ],
   "source": [
    "model_saved = tf.keras.models.load_model('model/model.h5')\n",
    "model_saved.summary()"
   ]
  },
  {
   "cell_type": "markdown",
   "id": "ba2f7d2a",
   "metadata": {},
   "source": [
    "Evaluasi Model"
   ]
  },
  {
   "cell_type": "code",
   "execution_count": 17,
   "id": "906bad9b",
   "metadata": {},
   "outputs": [
    {
     "name": "stdout",
     "output_type": "stream",
     "text": [
      "313/313 [==============================] - 0s 631us/step - loss: 0.4104 - accuracy: 0.8575\n"
     ]
    },
    {
     "data": {
      "text/plain": [
       "[0.4103600084781647, 0.8575000166893005]"
      ]
     },
     "execution_count": 17,
     "metadata": {},
     "output_type": "execute_result"
    }
   ],
   "source": [
    "model_saved.evaluate(x_test, y_test, batch_size=32)"
   ]
  },
  {
   "cell_type": "code",
   "execution_count": 18,
   "id": "b52a6da9",
   "metadata": {},
   "outputs": [
    {
     "name": "stdout",
     "output_type": "stream",
     "text": [
      "1875/1875 [==============================] - 1s 532us/step\n"
     ]
    }
   ],
   "source": [
    "hasil = model_saved.predict(x_train)"
   ]
  },
  {
   "cell_type": "code",
   "execution_count": 19,
   "id": "ba19a03c",
   "metadata": {},
   "outputs": [
    {
     "data": {
      "text/plain": [
       "array([[6.92136459e-10, 6.02973713e-11, 2.09845641e-10, ...,\n",
       "        4.54388966e-04, 3.40295605e-06, 9.99475658e-01],\n",
       "       [9.90786612e-01, 2.58713021e-06, 7.56768568e-05, ...,\n",
       "        6.48396755e-13, 2.13151338e-06, 4.35663745e-12],\n",
       "       [3.22001219e-01, 5.06723523e-02, 6.37081861e-02, ...,\n",
       "        2.23009585e-04, 7.81711470e-03, 1.14971226e-04],\n",
       "       ...,\n",
       "       [1.43051977e-04, 3.61719649e-05, 6.41040751e-05, ...,\n",
       "        1.24003439e-08, 4.43732024e-05, 6.73061784e-09],\n",
       "       [6.11501336e-01, 3.55164558e-02, 1.67743996e-01, ...,\n",
       "        1.28593183e-05, 1.08128339e-02, 2.18343257e-06],\n",
       "       [1.14575625e-04, 5.63990795e-07, 1.05256484e-04, ...,\n",
       "        1.29954447e-03, 5.65671769e-04, 9.19418817e-05]], dtype=float32)"
      ]
     },
     "execution_count": 19,
     "metadata": {},
     "output_type": "execute_result"
    }
   ],
   "source": [
    "hasil"
   ]
  },
  {
   "cell_type": "code",
   "execution_count": 20,
   "id": "5d1f172f",
   "metadata": {},
   "outputs": [
    {
     "data": {
      "text/plain": [
       "TensorShape([60000, 784])"
      ]
     },
     "execution_count": 20,
     "metadata": {},
     "output_type": "execute_result"
    }
   ],
   "source": [
    "x_train.shape"
   ]
  },
  {
   "cell_type": "code",
   "execution_count": 21,
   "id": "8f62b7b0",
   "metadata": {},
   "outputs": [
    {
     "data": {
      "text/plain": [
       "(60000, 10)"
      ]
     },
     "execution_count": 21,
     "metadata": {},
     "output_type": "execute_result"
    }
   ],
   "source": [
    "hasil.shape"
   ]
  },
  {
   "cell_type": "code",
   "execution_count": 22,
   "id": "bcb85bf2",
   "metadata": {},
   "outputs": [
    {
     "data": {
      "text/plain": [
       "3"
      ]
     },
     "execution_count": 22,
     "metadata": {},
     "output_type": "execute_result"
    }
   ],
   "source": [
    "tf.argmax(hasil[4]).numpy()"
   ]
  },
  {
   "cell_type": "code",
   "execution_count": 23,
   "id": "59103cf3",
   "metadata": {},
   "outputs": [
    {
     "data": {
      "text/plain": [
       "array([0, 1, 2, 3, 4, 5, 6, 7, 8, 9], dtype=uint8)"
      ]
     },
     "execution_count": 23,
     "metadata": {},
     "output_type": "execute_result"
    }
   ],
   "source": [
    "np.unique(y_train_raw)"
   ]
  },
  {
   "cell_type": "code",
   "execution_count": 24,
   "id": "57711e85",
   "metadata": {},
   "outputs": [
    {
     "data": {
      "text/plain": [
       "<matplotlib.image.AxesImage at 0x1c25a1d8910>"
      ]
     },
     "execution_count": 24,
     "metadata": {},
     "output_type": "execute_result"
    },
    {
     "data": {
      "image/png": "[encoded data removed]",
      "text/plain": [
       "<Figure size 640x480 with 1 Axes>"
      ]
     },
     "metadata": {},
     "output_type": "display_data"
    }
   ],
   "source": [
    "plt.imshow(x_train_raw[3])"
   ]
  },
  {
   "cell_type": "code",
   "execution_count": null,
   "id": "7fdf92e3",
   "metadata": {},
   "outputs": [],
   "source": []
  }
 ],
 "metadata": {
  "kernelspec": {
   "display_name": "Python 3 (ipykernel)",
   "language": "python",
   "name": "python3"
  },
  "language_info": {
   "codemirror_mode": {
    "name": "ipython",
    "version": 3
   },
   "file_extension": ".py",
   "mimetype": "text/x-python",
   "name": "python",
   "nbconvert_exporter": "python",
   "pygments_lexer": "ipython3",
   "version": "3.10.4"
  }
 },
 "nbformat": 4,
 "nbformat_minor": 5
}
