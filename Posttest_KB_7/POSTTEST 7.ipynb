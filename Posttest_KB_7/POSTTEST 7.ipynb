{
 "cells": [
  {
   "cell_type": "markdown",
   "id": "7eceb505",
   "metadata": {},
   "source": [
    "## Tensor Flow\n",
    "## Silvia Ananda(2009106120)"
   ]
  },
  {
   "cell_type": "code",
   "execution_count": 1,
   "id": "5bfbe8b5",
   "metadata": {},
   "outputs": [],
   "source": [
    "import tensorflow as tf\n",
    "import numpy as np"
   ]
  },
  {
   "cell_type": "markdown",
   "id": "11d255a0",
   "metadata": {},
   "source": [
    "### Membuat sebuah tensor dengan shape(5,5) dengan nilai random yang disimpan dalam variable random_tensor"
   ]
  },
  {
   "cell_type": "code",
   "execution_count": 2,
   "id": "6999d133",
   "metadata": {},
   "outputs": [
    {
     "data": {
      "text/plain": [
       "array([[ 1.5660453,  8.453796 ,  4.195988 , -3.3281126,  4.297745 ],\n",
       "       [ 5.773673 ,  5.778469 , -2.3687887,  1.8313084,  3.831189 ],\n",
       "       [ 5.9306345,  3.207028 ,  9.5699   ,  5.703525 ,  2.8514924],\n",
       "       [-0.4560299,  7.785313 ,  3.9240818,  3.206111 ,  8.598441 ],\n",
       "       [-1.2289314,  2.6863213,  2.30197  ,  4.9620075,  7.398493 ]],\n",
       "      dtype=float32)"
      ]
     },
     "execution_count": 2,
     "metadata": {},
     "output_type": "execute_result"
    }
   ],
   "source": [
    "random_tensor = tf.random.normal([5,5], mean=4., stddev=3., seed=1)\n",
    "random_tensor.numpy()"
   ]
  },
  {
   "cell_type": "code",
   "execution_count": 3,
   "id": "853611b2",
   "metadata": {},
   "outputs": [
    {
     "data": {
      "text/plain": [
       "array([[ 2,  4,  6,  8, 10],\n",
       "       [12, 14, 16, 18, 20],\n",
       "       [22, 24, 26, 28, 30],\n",
       "       [32, 34, 36, 38, 40],\n",
       "       [42, 44, 46, 48, 50]])"
      ]
     },
     "execution_count": 3,
     "metadata": {},
     "output_type": "execute_result"
    }
   ],
   "source": [
    "list_utt = [[2,4,6,8,10],[12,14,16,18,20],[22,24,26,28,30],[32,34,36,38,40],[42,44,46,48,50]]\n",
    "\n",
    "utt = tf.convert_to_tensor(list_utt)\n",
    "utt.numpy()"
   ]
  },
  {
   "cell_type": "code",
   "execution_count": 5,
   "id": "15ebc373",
   "metadata": {},
   "outputs": [
    {
     "data": {
      "text/plain": [
       "array([[[-1.0686427 , -0.7024789 ,  0.22244526, -0.10651765,\n",
       "          0.15407072],\n",
       "        [-0.916716  ,  0.5630016 ,  0.14035074,  0.38302082,\n",
       "         -1.7716217 ],\n",
       "        [ 1.1490461 , -0.07121783,  0.98920494, -0.3964655 ,\n",
       "         -0.63896954],\n",
       "        [-1.710124  , -0.1170314 ,  2.4165814 , -0.73353904,\n",
       "          1.2930026 ],\n",
       "        [-0.23136854, -0.26670742, -0.272915  , -0.39532927,\n",
       "         -0.03937935]],\n",
       "\n",
       "       [[-1.675915  ,  0.7988866 ,  0.49731058, -1.6074644 ,\n",
       "         -1.5364864 ],\n",
       "        [ 1.9905275 , -0.7666598 ,  0.83645785, -0.5812626 ,\n",
       "          0.77222645],\n",
       "        [ 0.4902348 , -0.9534847 ,  1.1787382 , -0.57640535,\n",
       "          0.2214321 ],\n",
       "        [-1.1900591 ,  2.0882902 , -0.1709692 ,  0.02725147,\n",
       "         -0.39300203],\n",
       "        [ 0.504534  ,  0.62085503,  1.3754343 ,  0.62582093,\n",
       "         -0.5301588 ]],\n",
       "\n",
       "       [[ 0.22968003, -0.51404256,  0.01495483,  0.06680353,\n",
       "          1.3874606 ],\n",
       "        [ 0.36123028, -0.6421525 , -0.42204922,  1.5790533 ,\n",
       "          0.10001177],\n",
       "        [ 0.19219513, -0.43628618,  0.01935679,  0.10377029,\n",
       "          0.24792454],\n",
       "        [ 0.13060997, -2.2579787 ,  0.9431618 ,  0.09185912,\n",
       "         -0.4575693 ],\n",
       "        [ 0.85566854,  2.5686758 ,  1.4173961 , -1.0839888 ,\n",
       "         -0.4457866 ]],\n",
       "\n",
       "       [[-0.11069519,  1.3992213 ,  0.29103965,  0.18538146,\n",
       "          0.75623757],\n",
       "        [-1.5446444 , -0.31550086,  1.2767034 , -2.000063  ,\n",
       "         -0.5481953 ],\n",
       "        [-0.6448151 ,  0.33725026, -0.6346784 ,  0.34062475,\n",
       "         -1.6528922 ],\n",
       "        [ 1.1437366 ,  2.2227342 ,  0.20303072, -0.2651615 ,\n",
       "          0.9435222 ],\n",
       "        [-0.05555218, -2.2226882 , -1.2234994 , -0.5574202 ,\n",
       "          0.8806993 ]],\n",
       "\n",
       "       [[ 0.5430998 ,  1.1370672 ,  0.9570489 , -0.4662801 ,\n",
       "          0.41879803],\n",
       "        [-1.3291411 , -0.654557  ,  0.2722205 , -0.0654597 ,\n",
       "         -0.15604869],\n",
       "        [ 0.41129026, -0.7945302 ,  0.603005  , -2.360203  ,\n",
       "          0.43458182],\n",
       "        [ 0.17597479, -1.3365089 ,  0.6744313 ,  0.16035485,\n",
       "         -1.7056227 ],\n",
       "        [ 0.75570756,  0.6021906 , -0.70705825,  0.27785638,\n",
       "         -0.50589323]]], dtype=float32)"
      ]
     },
     "execution_count": 5,
     "metadata": {},
     "output_type": "execute_result"
    }
   ],
   "source": [
    "slicing = tf.random.normal([5,5,5])\n",
    "slicing.numpy()"
   ]
  },
  {
   "cell_type": "code",
   "execution_count": 6,
   "id": "0958c022",
   "metadata": {},
   "outputs": [
    {
     "data": {
      "text/plain": [
       "<tf.Tensor: shape=(), dtype=float32, numpy=-0.2651615>"
      ]
     },
     "execution_count": 6,
     "metadata": {},
     "output_type": "execute_result"
    }
   ],
   "source": [
    "slicing[3,3,3]"
   ]
  },
  {
   "cell_type": "code",
   "execution_count": 7,
   "id": "d3e73138",
   "metadata": {},
   "outputs": [
    {
     "data": {
      "text/plain": [
       "<tf.Tensor: shape=(5, 5), dtype=float32, numpy=\n",
       "array([[-0.11069519,  1.3992213 ,  0.29103965,  0.18538146,  0.75623757],\n",
       "       [-1.5446444 , -0.31550086,  1.2767034 , -2.000063  , -0.5481953 ],\n",
       "       [-0.6448151 ,  0.33725026, -0.6346784 ,  0.34062475, -1.6528922 ],\n",
       "       [ 1.1437366 ,  2.2227342 ,  0.20303072, -0.2651615 ,  0.9435222 ],\n",
       "       [-0.05555218, -2.2226882 , -1.2234994 , -0.5574202 ,  0.8806993 ]],\n",
       "      dtype=float32)>"
      ]
     },
     "execution_count": 7,
     "metadata": {},
     "output_type": "execute_result"
    }
   ],
   "source": [
    "slicing[3]"
   ]
  },
  {
   "cell_type": "code",
   "execution_count": 8,
   "id": "777d7c59",
   "metadata": {},
   "outputs": [
    {
     "data": {
      "text/plain": [
       "array([[[ 0.22968003, -0.51404256,  0.01495483,  0.06680353,\n",
       "          1.3874606 ],\n",
       "        [ 0.36123028, -0.6421525 , -0.42204922,  1.5790533 ,\n",
       "          0.10001177],\n",
       "        [ 0.19219513, -0.43628618,  0.01935679,  0.10377029,\n",
       "          0.24792454],\n",
       "        [ 0.13060997, -2.2579787 ,  0.9431618 ,  0.09185912,\n",
       "         -0.4575693 ],\n",
       "        [ 0.85566854,  2.5686758 ,  1.4173961 , -1.0839888 ,\n",
       "         -0.4457866 ]],\n",
       "\n",
       "       [[-0.11069519,  1.3992213 ,  0.29103965,  0.18538146,\n",
       "          0.75623757],\n",
       "        [-1.5446444 , -0.31550086,  1.2767034 , -2.000063  ,\n",
       "         -0.5481953 ],\n",
       "        [-0.6448151 ,  0.33725026, -0.6346784 ,  0.34062475,\n",
       "         -1.6528922 ],\n",
       "        [ 1.1437366 ,  2.2227342 ,  0.20303072, -0.2651615 ,\n",
       "          0.9435222 ],\n",
       "        [-0.05555218, -2.2226882 , -1.2234994 , -0.5574202 ,\n",
       "          0.8806993 ]],\n",
       "\n",
       "       [[-0.11069519,  1.3992213 ,  0.29103965,  0.18538146,\n",
       "          0.75623757],\n",
       "        [-1.5446444 , -0.31550086,  1.2767034 , -2.000063  ,\n",
       "         -0.5481953 ],\n",
       "        [-0.6448151 ,  0.33725026, -0.6346784 ,  0.34062475,\n",
       "         -1.6528922 ],\n",
       "        [ 1.1437366 ,  2.2227342 ,  0.20303072, -0.2651615 ,\n",
       "          0.9435222 ],\n",
       "        [-0.05555218, -2.2226882 , -1.2234994 , -0.5574202 ,\n",
       "          0.8806993 ]]], dtype=float32)"
      ]
     },
     "execution_count": 8,
     "metadata": {},
     "output_type": "execute_result"
    }
   ],
   "source": [
    "tf.gather(slicing, indices=[2,3,3]).numpy()"
   ]
  },
  {
   "cell_type": "code",
   "execution_count": 10,
   "id": "f69f4972",
   "metadata": {},
   "outputs": [
    {
     "data": {
      "text/plain": [
       "array([ 0.98920494,  1.1787382 ,  0.01935679, -0.6346784 ,  0.603005  ],\n",
       "      dtype=float32)"
      ]
     },
     "execution_count": 10,
     "metadata": {},
     "output_type": "execute_result"
    }
   ],
   "source": [
    "tf.gather_nd(slicing, indices=[[0,2,2],[1,2,2],[2,2,2],[3,2,2],[4,2,2]]).numpy()"
   ]
  },
  {
   "cell_type": "markdown",
   "id": "048a3359",
   "metadata": {},
   "source": [
    "### Membuat sebuah tensor dengan shape(5,5) dari sebuah list dengan nilai bilangan prima dalam variable prime_tensor"
   ]
  },
  {
   "cell_type": "code",
   "execution_count": 11,
   "id": "407fbf03",
   "metadata": {},
   "outputs": [
    {
     "data": {
      "text/plain": [
       "array([[ 2.,  3.,  5.,  7., 11.],\n",
       "       [13., 17., 19., 23., 29.],\n",
       "       [31., 37., 41., 43., 47.],\n",
       "       [53., 59., 61., 71., 73.],\n",
       "       [79., 83., 89., 97.,  1.]], dtype=float32)"
      ]
     },
     "execution_count": 11,
     "metadata": {},
     "output_type": "execute_result"
    }
   ],
   "source": [
    "list_prime = [[2, 3, 5, 7, 11],[13, 17, 19, 23, 29],[31, 37, 41, 43, 47],[53, 59, 61, 71, 73],[79, 83, 89, 97, 1]]\n",
    "\n",
    "prime_tensor = tf.constant(list_prime, dtype=tf.float32)\n",
    "prime_tensor.numpy()"
   ]
  },
  {
   "cell_type": "markdown",
   "id": "4ee19581",
   "metadata": {},
   "source": [
    "### Menampilkan dimensi dari kedua variable tersebut\n"
   ]
  },
  {
   "cell_type": "code",
   "execution_count": 12,
   "id": "ee944de8",
   "metadata": {},
   "outputs": [
    {
     "data": {
      "text/plain": [
       "TensorShape([5, 5])"
      ]
     },
     "execution_count": 12,
     "metadata": {},
     "output_type": "execute_result"
    }
   ],
   "source": [
    "random_tensor.shape"
   ]
  },
  {
   "cell_type": "code",
   "execution_count": 13,
   "id": "d3c10052",
   "metadata": {},
   "outputs": [
    {
     "data": {
      "text/plain": [
       "TensorShape([5, 5])"
      ]
     },
     "execution_count": 13,
     "metadata": {},
     "output_type": "execute_result"
    }
   ],
   "source": [
    "prime_tensor.shape"
   ]
  },
  {
   "cell_type": "markdown",
   "id": "f39d4a49",
   "metadata": {},
   "source": [
    "### Menampilkan hasil dari perhitungan aritmatika 2 variable tersebut (Gunakan minimal 5 operator)"
   ]
  },
  {
   "cell_type": "code",
   "execution_count": 15,
   "id": "130103cf",
   "metadata": {},
   "outputs": [
    {
     "name": "stdout",
     "output_type": "stream",
     "text": [
      "1. Penjumlahan : tf.Tensor(\n",
      "[[  3.5660453  11.453796    9.195988    3.6718874  15.297745 ]\n",
      " [ 18.773674   22.77847    16.63121    24.831308   32.83119  ]\n",
      " [ 36.930634   40.207027   50.5699     48.703526   49.851494 ]\n",
      " [ 52.54397    66.78532    64.92408    74.20611    81.59844  ]\n",
      " [ 77.77107    85.686325   91.30197   101.962006    8.398493 ]], shape=(5, 5), dtype=float32)\n",
      "\n",
      "2. Pengurangan : tf.Tensor(\n",
      "[[ 0.43395472 -5.4537964   0.8040118  10.328113    6.702255  ]\n",
      " [ 7.226327   11.221531   21.36879    21.168692   25.168812  ]\n",
      " [25.069366   33.792973   31.4301     37.296474   44.148506  ]\n",
      " [53.45603    51.214687   57.07592    67.79389    64.40156   ]\n",
      " [80.22893    80.313675   86.69803    92.037994   -6.398493  ]], shape=(5, 5), dtype=float32)\n",
      "\n",
      "3. Perkalian : tf.Tensor(\n",
      "[[  3.1320906  25.36139    20.97994   -23.296787   47.275196 ]\n",
      " [ 75.05775    98.23398   -45.006985   42.120094  111.10448  ]\n",
      " [183.84967   118.660034  392.36588   245.25157   134.02014  ]\n",
      " [-24.169584  459.33347   239.36899   227.63388   627.6862   ]\n",
      " [-97.08559   222.96466   204.87534   481.31473     7.398493 ]], shape=(5, 5), dtype=float32)\n",
      "\n",
      "4. Pembagian : tf.Tensor(\n",
      "[[   1.2771022     0.35487014    1.1916144    -2.1032941     2.5594816 ]\n",
      " [   2.2515996     2.9419558    -8.020977     12.559327      7.569452  ]\n",
      " [   5.2270966    11.537162      4.2842665     7.539197     16.482597  ]\n",
      " [-116.22045       7.578372     15.545038     22.14521       8.489911  ]\n",
      " [ -64.283485     30.897272     38.662537     19.54854       0.13516267]], shape=(5, 5), dtype=float32)\n",
      "\n",
      "5. Pangkat : tf.Tensor(\n",
      "[[2.9609196e+00 1.0801547e+04 8.5678107e+02 1.5396378e-03 2.9897883e+04]\n",
      " [2.7011252e+06 1.2885790e+07 9.3519653e-04 3.1170486e+02 4.0061112e+05]\n",
      " [6.9939270e+08 1.0697116e+05 2.7175624e+15 2.0726610e+09 5.8610355e+04]\n",
      " [1.6356058e-01 6.1183936e+13 1.0133986e+07 8.6166744e+05 1.0511675e+16]\n",
      " [4.6552867e-03 1.4297506e+05 3.0721141e+04 7.2173256e+09 1.0000000e+00]], shape=(5, 5), dtype=float32)\n",
      "\n",
      "9. Setara : tf.Tensor(\n",
      "[[False False False False False]\n",
      " [False False False False False]\n",
      " [False False False False False]\n",
      " [False False False False False]\n",
      " [False False False False False]], shape=(5, 5), dtype=bool)\n",
      "\n",
      "10. Tidak Setara : tf.Tensor(\n",
      "[[ True  True  True  True  True]\n",
      " [ True  True  True  True  True]\n",
      " [ True  True  True  True  True]\n",
      " [ True  True  True  True  True]\n",
      " [ True  True  True  True  True]], shape=(5, 5), dtype=bool)\n",
      "\n",
      "14. Maximum : tf.Tensor(\n",
      "[[ 2.        8.453796  5.        7.       11.      ]\n",
      " [13.       17.       19.       23.       29.      ]\n",
      " [31.       37.       41.       43.       47.      ]\n",
      " [53.       59.       61.       71.       73.      ]\n",
      " [79.       83.       89.       97.        7.398493]], shape=(5, 5), dtype=float32)\n",
      "\n",
      "15. Minimum : tf.Tensor(\n",
      "[[ 1.5660453  3.         4.195988  -3.3281126  4.297745 ]\n",
      " [ 5.773673   5.778469  -2.3687887  1.8313084  3.831189 ]\n",
      " [ 5.9306345  3.207028   9.5699     5.703525   2.8514924]\n",
      " [-0.4560299  7.785313   3.9240818  3.206111   8.598441 ]\n",
      " [-1.2289314  2.6863213  2.30197    4.9620075  1.       ]], shape=(5, 5), dtype=float32)\n"
     ]
    }
   ],
   "source": [
    "print(\"1. Penjumlahan :\",tf.add(prime_tensor,random_tensor))\n",
    "print(\"\\n2. Pengurangan :\",tf.subtract(prime_tensor,random_tensor))\n",
    "print(\"\\n3. Perkalian :\",tf.multiply(prime_tensor,random_tensor))\n",
    "print(\"\\n4. Pembagian :\",tf.divide(prime_tensor,random_tensor))\n",
    "print(\"\\n5. Pangkat :\",tf.pow(prime_tensor,random_tensor))\n",
    "print(\"\\n9. Setara :\",tf.equal(prime_tensor,random_tensor))\n",
    "print(\"\\n10. Tidak Setara :\",tf.not_equal(prime_tensor,random_tensor))\n",
    "print(\"\\n14. Maximum :\",tf.math.maximum(prime_tensor,random_tensor))\n",
    "print(\"\\n15. Minimum :\",tf.math.minimum(prime_tensor,random_tensor))"
   ]
  },
  {
   "cell_type": "code",
   "execution_count": 16,
   "id": "8c1ddebb",
   "metadata": {},
   "outputs": [
    {
     "data": {
      "text/plain": [
       "array([2, 0, 2, 2, 3], dtype=int64)"
      ]
     },
     "execution_count": 16,
     "metadata": {},
     "output_type": "execute_result"
    }
   ],
   "source": [
    "tf.argmax(random_tensor, axis=0).numpy()#max baris random_tensor"
   ]
  },
  {
   "cell_type": "code",
   "execution_count": 17,
   "id": "d5f83258",
   "metadata": {},
   "outputs": [
    {
     "data": {
      "text/plain": [
       "array([1, 1, 2, 4, 4], dtype=int64)"
      ]
     },
     "execution_count": 17,
     "metadata": {},
     "output_type": "execute_result"
    }
   ],
   "source": [
    "tf.argmax(random_tensor, axis=1).numpy()#max kolom random_tensor"
   ]
  },
  {
   "cell_type": "code",
   "execution_count": 18,
   "id": "22574dba",
   "metadata": {},
   "outputs": [
    {
     "data": {
      "text/plain": [
       "array([4, 4, 1, 0, 2], dtype=int64)"
      ]
     },
     "execution_count": 18,
     "metadata": {},
     "output_type": "execute_result"
    }
   ],
   "source": [
    "tf.argmin(random_tensor, axis=0).numpy()#min baris random_tensor"
   ]
  },
  {
   "cell_type": "code",
   "execution_count": 19,
   "id": "35c47947",
   "metadata": {},
   "outputs": [
    {
     "data": {
      "text/plain": [
       "array([3, 2, 4, 0, 0], dtype=int64)"
      ]
     },
     "execution_count": 19,
     "metadata": {},
     "output_type": "execute_result"
    }
   ],
   "source": [
    "tf.argmin(random_tensor, axis=1).numpy()#min kolom random_tensor"
   ]
  },
  {
   "cell_type": "markdown",
   "id": "f5499f17",
   "metadata": {},
   "source": [
    "### Menampilkan hasil dari penggabungan variable random_tensor dengan prime_tensor (concatenation)"
   ]
  },
  {
   "cell_type": "code",
   "execution_count": 20,
   "id": "41c743b8",
   "metadata": {},
   "outputs": [
    {
     "data": {
      "text/plain": [
       "array([[ 1.5660453,  8.453796 ,  4.195988 , -3.3281126,  4.297745 ],\n",
       "       [ 5.773673 ,  5.778469 , -2.3687887,  1.8313084,  3.831189 ],\n",
       "       [ 5.9306345,  3.207028 ,  9.5699   ,  5.703525 ,  2.8514924],\n",
       "       [-0.4560299,  7.785313 ,  3.9240818,  3.206111 ,  8.598441 ],\n",
       "       [-1.2289314,  2.6863213,  2.30197  ,  4.9620075,  7.398493 ],\n",
       "       [ 2.       ,  3.       ,  5.       ,  7.       , 11.       ],\n",
       "       [13.       , 17.       , 19.       , 23.       , 29.       ],\n",
       "       [31.       , 37.       , 41.       , 43.       , 47.       ],\n",
       "       [53.       , 59.       , 61.       , 71.       , 73.       ],\n",
       "       [79.       , 83.       , 89.       , 97.       ,  1.       ]],\n",
       "      dtype=float32)"
      ]
     },
     "execution_count": 20,
     "metadata": {},
     "output_type": "execute_result"
    }
   ],
   "source": [
    "tf.concat([random_tensor,prime_tensor], axis=0).numpy()#penggabungan baris"
   ]
  },
  {
   "cell_type": "code",
   "execution_count": 21,
   "id": "54be5fdc",
   "metadata": {},
   "outputs": [
    {
     "data": {
      "text/plain": [
       "array([[ 1.5660453,  8.453796 ,  4.195988 , -3.3281126,  4.297745 ,\n",
       "         2.       ,  3.       ,  5.       ,  7.       , 11.       ],\n",
       "       [ 5.773673 ,  5.778469 , -2.3687887,  1.8313084,  3.831189 ,\n",
       "        13.       , 17.       , 19.       , 23.       , 29.       ],\n",
       "       [ 5.9306345,  3.207028 ,  9.5699   ,  5.703525 ,  2.8514924,\n",
       "        31.       , 37.       , 41.       , 43.       , 47.       ],\n",
       "       [-0.4560299,  7.785313 ,  3.9240818,  3.206111 ,  8.598441 ,\n",
       "        53.       , 59.       , 61.       , 71.       , 73.       ],\n",
       "       [-1.2289314,  2.6863213,  2.30197  ,  4.9620075,  7.398493 ,\n",
       "        79.       , 83.       , 89.       , 97.       ,  1.       ]],\n",
       "      dtype=float32)"
      ]
     },
     "execution_count": 21,
     "metadata": {},
     "output_type": "execute_result"
    }
   ],
   "source": [
    "tf.concat([random_tensor,prime_tensor], axis=1).numpy()#penggabungan kolom"
   ]
  },
  {
   "cell_type": "markdown",
   "id": "f0bafe4d",
   "metadata": {},
   "source": [
    "### Menampilkan hasil sorting dari kedua variable di atas. (descending)"
   ]
  },
  {
   "cell_type": "code",
   "execution_count": 22,
   "id": "6785fda4",
   "metadata": {},
   "outputs": [
    {
     "data": {
      "text/plain": [
       "array([[ 8.453796 ,  4.297745 ,  4.195988 ,  1.5660453, -3.3281126],\n",
       "       [ 5.778469 ,  5.773673 ,  3.831189 ,  1.8313084, -2.3687887],\n",
       "       [ 9.5699   ,  5.9306345,  5.703525 ,  3.207028 ,  2.8514924],\n",
       "       [ 8.598441 ,  7.785313 ,  3.9240818,  3.206111 , -0.4560299],\n",
       "       [ 7.398493 ,  4.9620075,  2.6863213,  2.30197  , -1.2289314]],\n",
       "      dtype=float32)"
      ]
     },
     "execution_count": 22,
     "metadata": {},
     "output_type": "execute_result"
    }
   ],
   "source": [
    "sort_random_tensor1 = tf.sort(random_tensor, direction=\"DESCENDING\")\n",
    "sort_random_tensor1.numpy()"
   ]
  },
  {
   "cell_type": "code",
   "execution_count": 23,
   "id": "d5e9c822",
   "metadata": {},
   "outputs": [
    {
     "data": {
      "text/plain": [
       "array([[1, 4, 2, 0, 3],\n",
       "       [1, 0, 4, 3, 2],\n",
       "       [2, 0, 3, 1, 4],\n",
       "       [4, 1, 2, 3, 0],\n",
       "       [4, 3, 1, 2, 0]])"
      ]
     },
     "execution_count": 23,
     "metadata": {},
     "output_type": "execute_result"
    }
   ],
   "source": [
    "sort_random_tensor2 = tf.argsort(random_tensor, direction=\"DESCENDING\")\n",
    "sort_random_tensor2.numpy()"
   ]
  },
  {
   "cell_type": "code",
   "execution_count": 24,
   "id": "6b45c9e3",
   "metadata": {},
   "outputs": [
    {
     "data": {
      "text/plain": [
       "array([[11.,  7.,  5.,  3.,  2.],\n",
       "       [29., 23., 19., 17., 13.],\n",
       "       [47., 43., 41., 37., 31.],\n",
       "       [73., 71., 61., 59., 53.],\n",
       "       [97., 89., 83., 79.,  1.]], dtype=float32)"
      ]
     },
     "execution_count": 24,
     "metadata": {},
     "output_type": "execute_result"
    }
   ],
   "source": [
    "sort_prime_tensor1 = tf.sort(prime_tensor, direction=\"DESCENDING\")\n",
    "sort_prime_tensor1.numpy()"
   ]
  },
  {
   "cell_type": "code",
   "execution_count": 25,
   "id": "7f5ae83c",
   "metadata": {},
   "outputs": [
    {
     "data": {
      "text/plain": [
       "array([[4, 3, 2, 1, 0],\n",
       "       [4, 3, 2, 1, 0],\n",
       "       [4, 3, 2, 1, 0],\n",
       "       [4, 3, 2, 1, 0],\n",
       "       [3, 2, 1, 0, 4]])"
      ]
     },
     "execution_count": 25,
     "metadata": {},
     "output_type": "execute_result"
    }
   ],
   "source": [
    "sort_prime_tensor2 = tf.argsort(prime_tensor, direction=\"DESCENDING\")\n",
    "sort_prime_tensor2.numpy()"
   ]
  },
  {
   "cell_type": "code",
   "execution_count": null,
   "id": "5dfcd484",
   "metadata": {},
   "outputs": [],
   "source": []
  }
 ],
 "metadata": {
  "kernelspec": {
   "display_name": "Python 3 (ipykernel)",
   "language": "python",
   "name": "python3"
  },
  "language_info": {
   "codemirror_mode": {
    "name": "ipython",
    "version": 3
   },
   "file_extension": ".py",
   "mimetype": "text/x-python",
   "name": "python",
   "nbconvert_exporter": "python",
   "pygments_lexer": "ipython3",
   "version": "3.10.7"
  }
 },
 "nbformat": 4,
 "nbformat_minor": 5
}
